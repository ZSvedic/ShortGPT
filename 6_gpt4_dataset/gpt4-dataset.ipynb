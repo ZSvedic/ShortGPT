{
 "cells": [
  {
   "cell_type": "code",
   "execution_count": 1,
   "metadata": {},
   "outputs": [],
   "source": [
    "# Imports:\n",
    "\n",
    "import os\n",
    "import huggingface_hub\n",
    "import datasets\n",
    "from pprint import pprint\n",
    "from types import SimpleNamespace\n",
    "import asyncio\n",
    "import nest_asyncio\n",
    "import oaib\n",
    "import json"
   ]
  },
  {
   "cell_type": "code",
   "execution_count": 2,
   "metadata": {},
   "outputs": [],
   "source": [
    "# Define constants:\n",
    "\n",
    "# Dataset related.\n",
    "ds_conf = SimpleNamespace(\n",
    "    name = \"lmsys/chatbot_arena_conversations\",\n",
    "    skip_rows = 12000,\n",
    "    rows_to_process = None, # None for all rows.\n",
    ")\n",
    "\n",
    "# Model Related. Prices: https://openai.com/api/pricing/\n",
    "model_conf = SimpleNamespace(\n",
    "    name = \"gpt-4o\", \n",
    "    in_tok_price = 1.25/1e6, \n",
    "    out_tok_price = 10.00/1e6,\n",
    ")\n",
    "# model_conf = SimpleNamespace(\n",
    "#     name = \"gpt-4o-mini\",\n",
    "#     in_tok_price = 0.15/1e6,\n",
    "#     out_tok_price = 0.60/1e6,\n",
    "# )\n",
    "\n",
    "# Output file related.\n",
    "out_file_name = f\"DATA/dataset_arena_{model_conf.name}.jsonl\"\n",
    "# cache_file_name = f\"DATA/dataset_arena_{model_conf.name}.arrow\"\n",
    "cache_file_name = None # No cache, trying to avoid ArrowInvalid: Column 4 named normal-answer expected length 500 but got length 499\n",
    "\n",
    "# Prompt related.\n",
    "class LimitedPrompt:\n",
    "    def __init__(self, max_words):\n",
    "        self.max_words = max_words\n",
    "        # A word is \"between 5 and 6.5 characters per word including spaces and punctuation\":\n",
    "        # https://charactercounter.com/characters-to-words\n",
    "        self.max_ch_soft = max_words * 6\n",
    "        # Hard limit adds 20% buffer and divides by 4 to get LLM token limit.\n",
    "        # https://help.openai.com/en/articles/4936856-what-are-tokens-and-how-to-count-them\n",
    "        self.max_tokens_hard = int(self.max_ch_soft * 1.2 / 4)\n",
    "\n",
    "normal_prompt = LimitedPrompt(120)\n",
    "normal_prompt.text = f'''Answer the user prompt below \"---\" line. Never exceed {normal_prompt.max_ch_soft} characters / {normal_prompt.max_words} words.\n",
    "---\n",
    "{{question}}\n",
    "'''\n",
    "\n",
    "brief_prompt = LimitedPrompt(20)\n",
    "brief_prompt.text = f'''Given the user prompt and a normal answer, generate a brief answer. A brief answer should be as short as possible but still answer the question and give relevant information. Never exceed {brief_prompt.max_ch_soft} characters / {brief_prompt.max_words} words.\n",
    "Examples between --- lines:\n",
    "--- Example 1 ---\n",
    "Your input:\n",
    "Question: How much is 2+3?\n",
    "Normal answer: Expression 2+3 is equal to 5.\n",
    "Your output:\n",
    "5\n",
    "--- Example 2 ---\n",
    "Your input:\n",
    "Question: What is the color of the sky?\n",
    "Normal answer: The sky is blue.\n",
    "Your output:\n",
    "Blue\n",
    "--- End of examples\n",
    "\n",
    "Considering all the above, give a brief answer to the prompt and normal answer below:\n",
    "Question: {{question}}\n",
    "Normal answer: {{normal_asnwer}}\n",
    "Your output: \n",
    "'''\n",
    "\n",
    "# Run related.\n",
    "batch_size = 500\n",
    "total_price = 0.0"
   ]
  },
  {
   "cell_type": "code",
   "execution_count": 3,
   "metadata": {},
   "outputs": [
    {
     "name": "stdout",
     "output_type": "stream",
     "text": [
      "The token has not been saved to the git credentials helper. Pass `add_to_git_credential=True` in this function directly or `--add-to-git-credential` if using via `huggingface-cli` if you want to set the git credential as well.\n",
      "Token is valid (permission: write).\n",
      "Your token has been saved to /home/zel/.cache/huggingface/token\n",
      "Login successful\n",
      "Loaded dataset range: range(0, 33000)\n"
     ]
    },
    {
     "data": {
      "application/vnd.jupyter.widget-view+json": {
       "model_id": "ed16a35c83d34fa9bc69e45183d7140d",
       "version_major": 2,
       "version_minor": 0
      },
      "text/plain": [
       "Map:   0%|          | 0/33000 [00:00<?, ? examples/s]"
      ]
     },
     "metadata": {},
     "output_type": "display_data"
    },
    {
     "name": "stdout",
     "output_type": "stream",
     "text": [
      "{'conversation_a': [{'content': 'When is it today?', 'role': 'user'},\n",
      "                    {'content': \"I'm sorry, I cannot determine the current \"\n",
      "                                'date for you as I do not have access to the '\n",
      "                                'current date and time. My knowledge cutoff is '\n",
      "                                'September 2021, and I do not have real-time '\n",
      "                                'access to the internet. Please let me know if '\n",
      "                                'there is anything else I can assist you with.',\n",
      "                     'role': 'assistant'}],\n",
      " 'question': 'When is it today?',\n",
      " 'question-id': 'adf27e819a3c494cb6e993f0c660e097'}\n"
     ]
    }
   ],
   "source": [
    "# Load the dataset from HuggingFace.\n",
    "\n",
    "huggingface_hub.login(token=os.getenv(\"HF_KEY\"))\n",
    "\n",
    "ds = datasets.load_dataset(ds_conf.name)['train']\n",
    "\n",
    "if ds_conf.rows_to_process==None:\n",
    "    ds_conf.rows_to_process=len(ds)-ds_conf.skip_rows\n",
    "\n",
    "ds_range = range(ds_conf.skip_rows, ds_conf.skip_rows+ds_conf.rows_to_process)\n",
    "ds = ds.select(ds_range) \n",
    "print(f\"Loaded dataset range: {ds_range}\")\n",
    "\n",
    "ds = ds.select_columns(['question_id', 'conversation_a'])\\\n",
    "    .rename_column('question_id', 'question-id')\\\n",
    "    .map(lambda example: {'question': example['conversation_a'][0]['content']})\n",
    "\n",
    "pprint(ds[4]) # Print a sample row."
   ]
  },
  {
   "cell_type": "code",
   "execution_count": 4,
   "metadata": {},
   "outputs": [],
   "source": [
    "# Define the generic batch processing function.\n",
    "\n",
    "nest_asyncio.apply()\n",
    "\n",
    "async def batch_call_llm(prompts, max_tokens):\n",
    "    ''' Call the LLM API in a batch using OAIB library. '''\n",
    "\n",
    "    global total_price\n",
    "\n",
    "    # This is very strange. If index is not specified, the API returns the results in a different\n",
    "    # order. If the index is specified, the results are returned in the same order as the input. So,\n",
    "    # we add index but never actually use it.\n",
    "    auto_batch = oaib.Auto(workers=8, index=[\"idx\"])\n",
    "    # auto_batch = oaib.Auto(workers=8)\n",
    "    \n",
    "    for idx, prompt in enumerate(prompts):\n",
    "        messages=[{\"role\": \"user\", \"content\": prompt}]\n",
    "        await auto_batch.add(\"chat.completions.create\", \n",
    "                             metadata={\"idx\": idx},\n",
    "                             model=model_conf.name, \n",
    "                             messages=messages, \n",
    "                             max_tokens=max_tokens)                       \n",
    "    \n",
    "    output = await auto_batch.run()\n",
    "    \n",
    "    answers, in_tokens, out_tokens = [], 0, 0\n",
    "    for _, row in output.iterrows():\n",
    "        answers.append(row.result['choices'][0]['message']['content'])\n",
    "        in_tokens += row.result['usage']['prompt_tokens']\n",
    "        out_tokens += row.result['usage']['completion_tokens']\n",
    "    \n",
    "    total_price += in_tokens*model_conf.in_tok_price + out_tokens*model_conf.out_tok_price\n",
    "    \n",
    "    return answers\n",
    "\n",
    "def process_batch_sync(batch, indices, file_handle):\n",
    "    ''' Process a batch of questions synchronously. '''\n",
    "\n",
    "    print(f\"Batch size: {len(indices)}, Start index: {indices[0]}\")\n",
    "\n",
    "    # Run 2-step LLM calls for all questions in the batch.\n",
    "    questions = batch['question']\n",
    "    normal_prompts = [normal_prompt.text.format(question=q) for q in questions]\n",
    "    normal_answers = asyncio.run(batch_call_llm(normal_prompts, normal_prompt.max_tokens_hard))\n",
    "    brief_prompts = [brief_prompt.text.format(question=q, normal_asnwer=na) \n",
    "                     for q, na in zip(questions, normal_answers)]\n",
    "    brief_answers = asyncio.run(batch_call_llm(brief_prompts, brief_prompt.max_tokens_hard))\n",
    "\n",
    "    # Append the batch to JSONL file.\n",
    "    for id, q, np, na, bp, ba in zip(batch['question-id'], questions, \n",
    "                                     normal_prompts, normal_answers, \n",
    "                                     brief_prompts, brief_answers):\n",
    "            entry = {\n",
    "                'question-id': id, 'question': q,\n",
    "                'normal-prompt': np, 'normal-answer': na,\n",
    "                'brief-prompt': bp, 'brief-answer': ba,\n",
    "            }\n",
    "            json.dump(entry, file_handle, ensure_ascii=False)\n",
    "            file_handle.write('\\n')\n",
    "    \n",
    "    # Return new columns.\n",
    "    return {\n",
    "        'normal-prompt': normal_prompts,\n",
    "        'normal-answer': normal_answers,\n",
    "        'brief-prompt': brief_prompts,\n",
    "        'brief-answer': brief_answers,\n",
    "    }"
   ]
  },
  {
   "cell_type": "code",
   "execution_count": 5,
   "metadata": {},
   "outputs": [
    {
     "data": {
      "application/vnd.jupyter.widget-view+json": {
       "model_id": "f64316f46fe54c7d882c0f5bcaffbf2e",
       "version_major": 2,
       "version_minor": 0
      },
      "text/plain": [
       "Map:   0%|          | 0/33000 [00:00<?, ? examples/s]"
      ]
     },
     "metadata": {},
     "output_type": "display_data"
    },
    {
     "name": "stdout",
     "output_type": "stream",
     "text": [
      "Batch size: 500, Start index: 0\n"
     ]
    },
    {
     "data": {
      "application/vnd.jupyter.widget-view+json": {
       "model_id": "67f52bc14a2e4bd297e1510348e28f7a",
       "version_major": 2,
       "version_minor": 0
      },
      "text/plain": [
       "  0%|          | 0/500 [00:00<?, ?req/s]"
      ]
     },
     "metadata": {},
     "output_type": "display_data"
    },
    {
     "data": {
      "application/vnd.jupyter.widget-view+json": {
       "model_id": "39d2f5d4863347378013983095b1d89c",
       "version_major": 2,
       "version_minor": 0
      },
      "text/plain": [
       "RPM:   0%|          | 0/500"
      ]
     },
     "metadata": {},
     "output_type": "display_data"
    },
    {
     "data": {
      "application/vnd.jupyter.widget-view+json": {
       "model_id": "7f89c7f515bd473ea4f4a7d0c8754a08",
       "version_major": 2,
       "version_minor": 0
      },
      "text/plain": [
       "TPM:   0%|          | 0/10000"
      ]
     },
     "metadata": {},
     "output_type": "display_data"
    },
    {
     "name": "stdout",
     "output_type": "stream",
     "text": [
      "\n",
      "Run took 14.74s.\n",
      "\n"
     ]
    },
    {
     "data": {
      "application/vnd.jupyter.widget-view+json": {
       "model_id": "d44de3bdbbbf47048163d4ac8a1b9acf",
       "version_major": 2,
       "version_minor": 0
      },
      "text/plain": [
       "  0%|          | 0/500 [00:00<?, ?req/s]"
      ]
     },
     "metadata": {},
     "output_type": "display_data"
    },
    {
     "data": {
      "application/vnd.jupyter.widget-view+json": {
       "model_id": "96dcafaa10b04413a9fc6de012b02f2d",
       "version_major": 2,
       "version_minor": 0
      },
      "text/plain": [
       "RPM:   0%|          | 0/500"
      ]
     },
     "metadata": {},
     "output_type": "display_data"
    },
    {
     "data": {
      "application/vnd.jupyter.widget-view+json": {
       "model_id": "61c38b4b3f704cde94d8fb0ea685d0ae",
       "version_major": 2,
       "version_minor": 0
      },
      "text/plain": [
       "TPM:   0%|          | 0/10000"
      ]
     },
     "metadata": {},
     "output_type": "display_data"
    },
    {
     "name": "stdout",
     "output_type": "stream",
     "text": [
      "\n",
      "Run took 18.44s.\n",
      "\n",
      "Batch size: 500, Start index: 500\n"
     ]
    },
    {
     "data": {
      "application/vnd.jupyter.widget-view+json": {
       "model_id": "65d98a01f62d4b6281ee9ab2d067f9a5",
       "version_major": 2,
       "version_minor": 0
      },
      "text/plain": [
       "  0%|          | 0/500 [00:00<?, ?req/s]"
      ]
     },
     "metadata": {},
     "output_type": "display_data"
    },
    {
     "data": {
      "application/vnd.jupyter.widget-view+json": {
       "model_id": "6258d431ba994c649eb3a239468c2cfe",
       "version_major": 2,
       "version_minor": 0
      },
      "text/plain": [
       "RPM:   0%|          | 0/500"
      ]
     },
     "metadata": {},
     "output_type": "display_data"
    },
    {
     "data": {
      "application/vnd.jupyter.widget-view+json": {
       "model_id": "2b15ee41591f45128b98e805af10b5ea",
       "version_major": 2,
       "version_minor": 0
      },
      "text/plain": [
       "TPM:   0%|          | 0/10000"
      ]
     },
     "metadata": {},
     "output_type": "display_data"
    },
    {
     "name": "stdout",
     "output_type": "stream",
     "text": [
      "\n",
      "Run took 16.31s.\n",
      "\n"
     ]
    },
    {
     "data": {
      "application/vnd.jupyter.widget-view+json": {
       "model_id": "c2b41ec78d0b4b44a6933e382e3caf98",
       "version_major": 2,
       "version_minor": 0
      },
      "text/plain": [
       "  0%|          | 0/500 [00:00<?, ?req/s]"
      ]
     },
     "metadata": {},
     "output_type": "display_data"
    },
    {
     "data": {
      "application/vnd.jupyter.widget-view+json": {
       "model_id": "4fa18bd8d4e845e6b8337ac2e52185c6",
       "version_major": 2,
       "version_minor": 0
      },
      "text/plain": [
       "RPM:   0%|          | 0/500"
      ]
     },
     "metadata": {},
     "output_type": "display_data"
    },
    {
     "data": {
      "application/vnd.jupyter.widget-view+json": {
       "model_id": "adb66d6d83f841cc88b2222ab696e6ea",
       "version_major": 2,
       "version_minor": 0
      },
      "text/plain": [
       "TPM:   0%|          | 0/10000"
      ]
     },
     "metadata": {},
     "output_type": "display_data"
    },
    {
     "name": "stdout",
     "output_type": "stream",
     "text": [
      "\n",
      "Run took 19.78s.\n",
      "\n",
      "Batch size: 500, Start index: 1000\n"
     ]
    },
    {
     "data": {
      "application/vnd.jupyter.widget-view+json": {
       "model_id": "fb3c9d1b11bd41c6a181b15a9acb61f4",
       "version_major": 2,
       "version_minor": 0
      },
      "text/plain": [
       "  0%|          | 0/500 [00:00<?, ?req/s]"
      ]
     },
     "metadata": {},
     "output_type": "display_data"
    },
    {
     "data": {
      "application/vnd.jupyter.widget-view+json": {
       "model_id": "fbbe779fdcbb4ecdbc7efc57ae725e0a",
       "version_major": 2,
       "version_minor": 0
      },
      "text/plain": [
       "RPM:   0%|          | 0/500"
      ]
     },
     "metadata": {},
     "output_type": "display_data"
    },
    {
     "data": {
      "application/vnd.jupyter.widget-view+json": {
       "model_id": "9a5c44d082564fe0b662e43d1a9d644b",
       "version_major": 2,
       "version_minor": 0
      },
      "text/plain": [
       "TPM:   0%|          | 0/10000"
      ]
     },
     "metadata": {},
     "output_type": "display_data"
    },
    {
     "name": "stdout",
     "output_type": "stream",
     "text": [
      "\n",
      "Run took 14.07s.\n",
      "\n"
     ]
    },
    {
     "data": {
      "application/vnd.jupyter.widget-view+json": {
       "model_id": "a95cc5126ba840bea0067a73910396c6",
       "version_major": 2,
       "version_minor": 0
      },
      "text/plain": [
       "  0%|          | 0/500 [00:00<?, ?req/s]"
      ]
     },
     "metadata": {},
     "output_type": "display_data"
    },
    {
     "data": {
      "application/vnd.jupyter.widget-view+json": {
       "model_id": "1a2096eae3354e64b3a704a4f7f41044",
       "version_major": 2,
       "version_minor": 0
      },
      "text/plain": [
       "RPM:   0%|          | 0/500"
      ]
     },
     "metadata": {},
     "output_type": "display_data"
    },
    {
     "data": {
      "application/vnd.jupyter.widget-view+json": {
       "model_id": "9f7ae2677b9f4767ba7f92d66786c0dc",
       "version_major": 2,
       "version_minor": 0
      },
      "text/plain": [
       "TPM:   0%|          | 0/10000"
      ]
     },
     "metadata": {},
     "output_type": "display_data"
    },
    {
     "name": "stdout",
     "output_type": "stream",
     "text": [
      "\n",
      "Run took 22.45s.\n",
      "\n",
      "Batch size: 500, Start index: 1500\n"
     ]
    },
    {
     "data": {
      "application/vnd.jupyter.widget-view+json": {
       "model_id": "72e2e9cda0ef4afea0872d85b0aa935b",
       "version_major": 2,
       "version_minor": 0
      },
      "text/plain": [
       "  0%|          | 0/500 [00:00<?, ?req/s]"
      ]
     },
     "metadata": {},
     "output_type": "display_data"
    },
    {
     "data": {
      "application/vnd.jupyter.widget-view+json": {
       "model_id": "08f195610db844688abae3e5a53c9e2a",
       "version_major": 2,
       "version_minor": 0
      },
      "text/plain": [
       "RPM:   0%|          | 0/500"
      ]
     },
     "metadata": {},
     "output_type": "display_data"
    },
    {
     "data": {
      "application/vnd.jupyter.widget-view+json": {
       "model_id": "6055ec11683542eaa312d14db406d80f",
       "version_major": 2,
       "version_minor": 0
      },
      "text/plain": [
       "TPM:   0%|          | 0/10000"
      ]
     },
     "metadata": {},
     "output_type": "display_data"
    },
    {
     "name": "stdout",
     "output_type": "stream",
     "text": [
      "\n",
      "Run took 17.24s.\n",
      "\n"
     ]
    },
    {
     "data": {
      "application/vnd.jupyter.widget-view+json": {
       "model_id": "1180d5d2a0414128b16ae5a67d015fb7",
       "version_major": 2,
       "version_minor": 0
      },
      "text/plain": [
       "  0%|          | 0/500 [00:00<?, ?req/s]"
      ]
     },
     "metadata": {},
     "output_type": "display_data"
    },
    {
     "data": {
      "application/vnd.jupyter.widget-view+json": {
       "model_id": "55c804019d8c4afbafa3d83d4394c628",
       "version_major": 2,
       "version_minor": 0
      },
      "text/plain": [
       "RPM:   0%|          | 0/500"
      ]
     },
     "metadata": {},
     "output_type": "display_data"
    },
    {
     "data": {
      "application/vnd.jupyter.widget-view+json": {
       "model_id": "e5425635a2894695a008fb4e15e11159",
       "version_major": 2,
       "version_minor": 0
      },
      "text/plain": [
       "TPM:   0%|          | 0/10000"
      ]
     },
     "metadata": {},
     "output_type": "display_data"
    },
    {
     "name": "stdout",
     "output_type": "stream",
     "text": [
      "\n",
      "Run took 29.67s.\n",
      "\n",
      "Batch size: 500, Start index: 2000\n"
     ]
    },
    {
     "data": {
      "application/vnd.jupyter.widget-view+json": {
       "model_id": "ae8bf9c300944af9a1044cc40eb85d54",
       "version_major": 2,
       "version_minor": 0
      },
      "text/plain": [
       "  0%|          | 0/500 [00:00<?, ?req/s]"
      ]
     },
     "metadata": {},
     "output_type": "display_data"
    },
    {
     "data": {
      "application/vnd.jupyter.widget-view+json": {
       "model_id": "418400c9683d4be5bc5f55afcd1674e0",
       "version_major": 2,
       "version_minor": 0
      },
      "text/plain": [
       "RPM:   0%|          | 0/500"
      ]
     },
     "metadata": {},
     "output_type": "display_data"
    },
    {
     "data": {
      "application/vnd.jupyter.widget-view+json": {
       "model_id": "7115d468c3f34eecbcd788dafb496792",
       "version_major": 2,
       "version_minor": 0
      },
      "text/plain": [
       "TPM:   0%|          | 0/10000"
      ]
     },
     "metadata": {},
     "output_type": "display_data"
    },
    {
     "name": "stdout",
     "output_type": "stream",
     "text": [
      "\n",
      "Run took 20.41s.\n",
      "\n"
     ]
    },
    {
     "data": {
      "application/vnd.jupyter.widget-view+json": {
       "model_id": "1e7489fb07d1455b88a9f642472fa1b5",
       "version_major": 2,
       "version_minor": 0
      },
      "text/plain": [
       "  0%|          | 0/500 [00:00<?, ?req/s]"
      ]
     },
     "metadata": {},
     "output_type": "display_data"
    },
    {
     "data": {
      "application/vnd.jupyter.widget-view+json": {
       "model_id": "529e6a12df6242a490e5662775e6504d",
       "version_major": 2,
       "version_minor": 0
      },
      "text/plain": [
       "RPM:   0%|          | 0/500"
      ]
     },
     "metadata": {},
     "output_type": "display_data"
    },
    {
     "data": {
      "application/vnd.jupyter.widget-view+json": {
       "model_id": "7ef18e1893a04b1fafb88413fc05e0e4",
       "version_major": 2,
       "version_minor": 0
      },
      "text/plain": [
       "TPM:   0%|          | 0/10000"
      ]
     },
     "metadata": {},
     "output_type": "display_data"
    },
    {
     "name": "stdout",
     "output_type": "stream",
     "text": [
      "\n",
      "Run took 27.31s.\n",
      "\n",
      "Batch size: 500, Start index: 2500\n"
     ]
    },
    {
     "data": {
      "application/vnd.jupyter.widget-view+json": {
       "model_id": "d733266823bc45d8b3d8c5171dceff0d",
       "version_major": 2,
       "version_minor": 0
      },
      "text/plain": [
       "  0%|          | 0/500 [00:00<?, ?req/s]"
      ]
     },
     "metadata": {},
     "output_type": "display_data"
    },
    {
     "data": {
      "application/vnd.jupyter.widget-view+json": {
       "model_id": "99247172e03a46f19770497605e4b8a9",
       "version_major": 2,
       "version_minor": 0
      },
      "text/plain": [
       "RPM:   0%|          | 0/500"
      ]
     },
     "metadata": {},
     "output_type": "display_data"
    },
    {
     "data": {
      "application/vnd.jupyter.widget-view+json": {
       "model_id": "b9ae98e0f49a4b3ca52980a6b4e24376",
       "version_major": 2,
       "version_minor": 0
      },
      "text/plain": [
       "TPM:   0%|          | 0/10000"
      ]
     },
     "metadata": {},
     "output_type": "display_data"
    },
    {
     "name": "stdout",
     "output_type": "stream",
     "text": [
      "\n",
      "Run took 24.05s.\n",
      "\n"
     ]
    },
    {
     "data": {
      "application/vnd.jupyter.widget-view+json": {
       "model_id": "739b71736e49452d9b59c1f3db737985",
       "version_major": 2,
       "version_minor": 0
      },
      "text/plain": [
       "  0%|          | 0/500 [00:00<?, ?req/s]"
      ]
     },
     "metadata": {},
     "output_type": "display_data"
    },
    {
     "data": {
      "application/vnd.jupyter.widget-view+json": {
       "model_id": "d193463ed23d46f79642bc7d0f74ec91",
       "version_major": 2,
       "version_minor": 0
      },
      "text/plain": [
       "RPM:   0%|          | 0/500"
      ]
     },
     "metadata": {},
     "output_type": "display_data"
    },
    {
     "data": {
      "application/vnd.jupyter.widget-view+json": {
       "model_id": "7b282e14a6ca4a88819d572f500a5e6b",
       "version_major": 2,
       "version_minor": 0
      },
      "text/plain": [
       "TPM:   0%|          | 0/10000"
      ]
     },
     "metadata": {},
     "output_type": "display_data"
    },
    {
     "name": "stdout",
     "output_type": "stream",
     "text": [
      "\n",
      "Run took 24.68s.\n",
      "\n",
      "Batch size: 500, Start index: 3000\n"
     ]
    },
    {
     "data": {
      "application/vnd.jupyter.widget-view+json": {
       "model_id": "63aec7a21b38474cbf85cd778dba34e7",
       "version_major": 2,
       "version_minor": 0
      },
      "text/plain": [
       "  0%|          | 0/500 [00:00<?, ?req/s]"
      ]
     },
     "metadata": {},
     "output_type": "display_data"
    },
    {
     "data": {
      "application/vnd.jupyter.widget-view+json": {
       "model_id": "a08cf08634ff43388e5b196bfa137984",
       "version_major": 2,
       "version_minor": 0
      },
      "text/plain": [
       "RPM:   0%|          | 0/500"
      ]
     },
     "metadata": {},
     "output_type": "display_data"
    },
    {
     "data": {
      "application/vnd.jupyter.widget-view+json": {
       "model_id": "371254a766c5424c997b3e5825147ec8",
       "version_major": 2,
       "version_minor": 0
      },
      "text/plain": [
       "TPM:   0%|          | 0/10000"
      ]
     },
     "metadata": {},
     "output_type": "display_data"
    },
    {
     "name": "stdout",
     "output_type": "stream",
     "text": [
      "\n",
      "Run took 12.63s.\n",
      "\n"
     ]
    },
    {
     "data": {
      "application/vnd.jupyter.widget-view+json": {
       "model_id": "b30d49dc9b12422194895182530b1436",
       "version_major": 2,
       "version_minor": 0
      },
      "text/plain": [
       "  0%|          | 0/500 [00:00<?, ?req/s]"
      ]
     },
     "metadata": {},
     "output_type": "display_data"
    },
    {
     "data": {
      "application/vnd.jupyter.widget-view+json": {
       "model_id": "5a8d225061f64a6f916dde7eb98152c7",
       "version_major": 2,
       "version_minor": 0
      },
      "text/plain": [
       "RPM:   0%|          | 0/500"
      ]
     },
     "metadata": {},
     "output_type": "display_data"
    },
    {
     "data": {
      "application/vnd.jupyter.widget-view+json": {
       "model_id": "1e8bfa2bd5d94da99487118c73786512",
       "version_major": 2,
       "version_minor": 0
      },
      "text/plain": [
       "TPM:   0%|          | 0/10000"
      ]
     },
     "metadata": {},
     "output_type": "display_data"
    },
    {
     "name": "stdout",
     "output_type": "stream",
     "text": [
      "\n",
      "Run took 25.52s.\n",
      "\n",
      "Batch size: 500, Start index: 3500\n"
     ]
    },
    {
     "data": {
      "application/vnd.jupyter.widget-view+json": {
       "model_id": "c6a882bc6a0444f7925220095c3bd238",
       "version_major": 2,
       "version_minor": 0
      },
      "text/plain": [
       "  0%|          | 0/500 [00:00<?, ?req/s]"
      ]
     },
     "metadata": {},
     "output_type": "display_data"
    },
    {
     "data": {
      "application/vnd.jupyter.widget-view+json": {
       "model_id": "f118dbb8dde54f79bd8a74fd00ae7c5a",
       "version_major": 2,
       "version_minor": 0
      },
      "text/plain": [
       "RPM:   0%|          | 0/500"
      ]
     },
     "metadata": {},
     "output_type": "display_data"
    },
    {
     "data": {
      "application/vnd.jupyter.widget-view+json": {
       "model_id": "74daa010a28a440caa00eae95a0fb2bc",
       "version_major": 2,
       "version_minor": 0
      },
      "text/plain": [
       "TPM:   0%|          | 0/10000"
      ]
     },
     "metadata": {},
     "output_type": "display_data"
    },
    {
     "name": "stdout",
     "output_type": "stream",
     "text": [
      "\n",
      "Run took 16.30s.\n",
      "\n"
     ]
    },
    {
     "data": {
      "application/vnd.jupyter.widget-view+json": {
       "model_id": "c5b9d415ed87484f8d46ada662cfda2c",
       "version_major": 2,
       "version_minor": 0
      },
      "text/plain": [
       "  0%|          | 0/500 [00:00<?, ?req/s]"
      ]
     },
     "metadata": {},
     "output_type": "display_data"
    },
    {
     "data": {
      "application/vnd.jupyter.widget-view+json": {
       "model_id": "c2d3245fa15a426ba6a2710d33b5c757",
       "version_major": 2,
       "version_minor": 0
      },
      "text/plain": [
       "RPM:   0%|          | 0/500"
      ]
     },
     "metadata": {},
     "output_type": "display_data"
    },
    {
     "data": {
      "application/vnd.jupyter.widget-view+json": {
       "model_id": "0490af40dc304678b9c86050f05b6c33",
       "version_major": 2,
       "version_minor": 0
      },
      "text/plain": [
       "TPM:   0%|          | 0/10000"
      ]
     },
     "metadata": {},
     "output_type": "display_data"
    },
    {
     "name": "stdout",
     "output_type": "stream",
     "text": [
      "\n",
      "Run took 19.28s.\n",
      "\n",
      "Batch size: 500, Start index: 4000\n"
     ]
    },
    {
     "data": {
      "application/vnd.jupyter.widget-view+json": {
       "model_id": "e947517e66044f0da566d06e22c5618d",
       "version_major": 2,
       "version_minor": 0
      },
      "text/plain": [
       "  0%|          | 0/500 [00:00<?, ?req/s]"
      ]
     },
     "metadata": {},
     "output_type": "display_data"
    },
    {
     "data": {
      "application/vnd.jupyter.widget-view+json": {
       "model_id": "445121ea98944d04abcacd91efa19115",
       "version_major": 2,
       "version_minor": 0
      },
      "text/plain": [
       "RPM:   0%|          | 0/500"
      ]
     },
     "metadata": {},
     "output_type": "display_data"
    },
    {
     "data": {
      "application/vnd.jupyter.widget-view+json": {
       "model_id": "6e96cd35d9c24864b81d7e05cf7cf182",
       "version_major": 2,
       "version_minor": 0
      },
      "text/plain": [
       "TPM:   0%|          | 0/10000"
      ]
     },
     "metadata": {},
     "output_type": "display_data"
    },
    {
     "name": "stdout",
     "output_type": "stream",
     "text": [
      "\n",
      "Run took 14.99s.\n",
      "\n"
     ]
    },
    {
     "data": {
      "application/vnd.jupyter.widget-view+json": {
       "model_id": "559b4fc0d33f4df09c292306b32a908b",
       "version_major": 2,
       "version_minor": 0
      },
      "text/plain": [
       "  0%|          | 0/500 [00:00<?, ?req/s]"
      ]
     },
     "metadata": {},
     "output_type": "display_data"
    },
    {
     "data": {
      "application/vnd.jupyter.widget-view+json": {
       "model_id": "d18348e2efbb4f08a44d1ca8a32d2556",
       "version_major": 2,
       "version_minor": 0
      },
      "text/plain": [
       "RPM:   0%|          | 0/500"
      ]
     },
     "metadata": {},
     "output_type": "display_data"
    },
    {
     "data": {
      "application/vnd.jupyter.widget-view+json": {
       "model_id": "31e46c5cc47a46b09024b9b3b74ebd00",
       "version_major": 2,
       "version_minor": 0
      },
      "text/plain": [
       "TPM:   0%|          | 0/10000"
      ]
     },
     "metadata": {},
     "output_type": "display_data"
    },
    {
     "name": "stdout",
     "output_type": "stream",
     "text": [
      "\n",
      "Run took 24.51s.\n",
      "\n",
      "Batch size: 500, Start index: 4500\n"
     ]
    },
    {
     "data": {
      "application/vnd.jupyter.widget-view+json": {
       "model_id": "a8e49868fdbc412481cdc11107bf2595",
       "version_major": 2,
       "version_minor": 0
      },
      "text/plain": [
       "  0%|          | 0/500 [00:00<?, ?req/s]"
      ]
     },
     "metadata": {},
     "output_type": "display_data"
    },
    {
     "data": {
      "application/vnd.jupyter.widget-view+json": {
       "model_id": "2b7a261d5c0845f08fc08a9aad984008",
       "version_major": 2,
       "version_minor": 0
      },
      "text/plain": [
       "RPM:   0%|          | 0/500"
      ]
     },
     "metadata": {},
     "output_type": "display_data"
    },
    {
     "data": {
      "application/vnd.jupyter.widget-view+json": {
       "model_id": "03057a4aea8b434c96216010089e9e55",
       "version_major": 2,
       "version_minor": 0
      },
      "text/plain": [
       "TPM:   0%|          | 0/10000"
      ]
     },
     "metadata": {},
     "output_type": "display_data"
    },
    {
     "name": "stdout",
     "output_type": "stream",
     "text": [
      "\n",
      "Run took 16.14s.\n",
      "\n"
     ]
    },
    {
     "data": {
      "application/vnd.jupyter.widget-view+json": {
       "model_id": "4bb6d609c00d48d296dbb3986e37717a",
       "version_major": 2,
       "version_minor": 0
      },
      "text/plain": [
       "  0%|          | 0/500 [00:00<?, ?req/s]"
      ]
     },
     "metadata": {},
     "output_type": "display_data"
    },
    {
     "data": {
      "application/vnd.jupyter.widget-view+json": {
       "model_id": "c8feb47018294474b1fda20ab15e2efc",
       "version_major": 2,
       "version_minor": 0
      },
      "text/plain": [
       "RPM:   0%|          | 0/500"
      ]
     },
     "metadata": {},
     "output_type": "display_data"
    },
    {
     "data": {
      "application/vnd.jupyter.widget-view+json": {
       "model_id": "26e542d6a71d41939e3385169bafdbe8",
       "version_major": 2,
       "version_minor": 0
      },
      "text/plain": [
       "TPM:   0%|          | 0/10000"
      ]
     },
     "metadata": {},
     "output_type": "display_data"
    },
    {
     "name": "stdout",
     "output_type": "stream",
     "text": [
      "\n",
      "Run took 23.62s.\n",
      "\n",
      "Batch size: 500, Start index: 5000\n"
     ]
    },
    {
     "data": {
      "application/vnd.jupyter.widget-view+json": {
       "model_id": "6e3b2c7b6cce4a44a1140c727774db0c",
       "version_major": 2,
       "version_minor": 0
      },
      "text/plain": [
       "  0%|          | 0/500 [00:00<?, ?req/s]"
      ]
     },
     "metadata": {},
     "output_type": "display_data"
    },
    {
     "data": {
      "application/vnd.jupyter.widget-view+json": {
       "model_id": "7a56353a335249d1a7692e8d974ed1c1",
       "version_major": 2,
       "version_minor": 0
      },
      "text/plain": [
       "RPM:   0%|          | 0/500"
      ]
     },
     "metadata": {},
     "output_type": "display_data"
    },
    {
     "data": {
      "application/vnd.jupyter.widget-view+json": {
       "model_id": "50b3f52b31184c839ab14640141399b4",
       "version_major": 2,
       "version_minor": 0
      },
      "text/plain": [
       "TPM:   0%|          | 0/10000"
      ]
     },
     "metadata": {},
     "output_type": "display_data"
    },
    {
     "name": "stdout",
     "output_type": "stream",
     "text": [
      "\n",
      "Run took 15.78s.\n",
      "\n"
     ]
    },
    {
     "data": {
      "application/vnd.jupyter.widget-view+json": {
       "model_id": "0cb3bd80ae934b58a048c99aefff6e3d",
       "version_major": 2,
       "version_minor": 0
      },
      "text/plain": [
       "  0%|          | 0/500 [00:00<?, ?req/s]"
      ]
     },
     "metadata": {},
     "output_type": "display_data"
    },
    {
     "data": {
      "application/vnd.jupyter.widget-view+json": {
       "model_id": "f7f13999ff59406f8f31e304ea14250f",
       "version_major": 2,
       "version_minor": 0
      },
      "text/plain": [
       "RPM:   0%|          | 0/500"
      ]
     },
     "metadata": {},
     "output_type": "display_data"
    },
    {
     "data": {
      "application/vnd.jupyter.widget-view+json": {
       "model_id": "742d1635f7b742c7acccb9b7d42903da",
       "version_major": 2,
       "version_minor": 0
      },
      "text/plain": [
       "TPM:   0%|          | 0/10000"
      ]
     },
     "metadata": {},
     "output_type": "display_data"
    },
    {
     "name": "stdout",
     "output_type": "stream",
     "text": [
      "\n",
      "Run took 22.92s.\n",
      "\n",
      "Batch size: 500, Start index: 5500\n"
     ]
    },
    {
     "data": {
      "application/vnd.jupyter.widget-view+json": {
       "model_id": "0443d6b945ba42dd92a35d91a32b152b",
       "version_major": 2,
       "version_minor": 0
      },
      "text/plain": [
       "  0%|          | 0/500 [00:00<?, ?req/s]"
      ]
     },
     "metadata": {},
     "output_type": "display_data"
    },
    {
     "data": {
      "application/vnd.jupyter.widget-view+json": {
       "model_id": "b763d791b93b43d9970182074a06f04a",
       "version_major": 2,
       "version_minor": 0
      },
      "text/plain": [
       "RPM:   0%|          | 0/500"
      ]
     },
     "metadata": {},
     "output_type": "display_data"
    },
    {
     "data": {
      "application/vnd.jupyter.widget-view+json": {
       "model_id": "7dcc1931eaed4e81b27102fbb0240c49",
       "version_major": 2,
       "version_minor": 0
      },
      "text/plain": [
       "TPM:   0%|          | 0/10000"
      ]
     },
     "metadata": {},
     "output_type": "display_data"
    },
    {
     "name": "stdout",
     "output_type": "stream",
     "text": [
      "\n",
      "Run took 19.95s.\n",
      "\n"
     ]
    },
    {
     "data": {
      "application/vnd.jupyter.widget-view+json": {
       "model_id": "0dbd235e1f80456ab3c89e5acd9d654d",
       "version_major": 2,
       "version_minor": 0
      },
      "text/plain": [
       "  0%|          | 0/500 [00:00<?, ?req/s]"
      ]
     },
     "metadata": {},
     "output_type": "display_data"
    },
    {
     "data": {
      "application/vnd.jupyter.widget-view+json": {
       "model_id": "74d906ef0e89416abade4ce5ed5f0d2d",
       "version_major": 2,
       "version_minor": 0
      },
      "text/plain": [
       "RPM:   0%|          | 0/500"
      ]
     },
     "metadata": {},
     "output_type": "display_data"
    },
    {
     "data": {
      "application/vnd.jupyter.widget-view+json": {
       "model_id": "38c92855e2e34c9fb792c8377b0e0c77",
       "version_major": 2,
       "version_minor": 0
      },
      "text/plain": [
       "TPM:   0%|          | 0/10000"
      ]
     },
     "metadata": {},
     "output_type": "display_data"
    },
    {
     "name": "stdout",
     "output_type": "stream",
     "text": [
      "\n",
      "Run took 32.94s.\n",
      "\n",
      "Batch size: 500, Start index: 6000\n"
     ]
    },
    {
     "data": {
      "application/vnd.jupyter.widget-view+json": {
       "model_id": "a25b27f054134ceca8652347861a8914",
       "version_major": 2,
       "version_minor": 0
      },
      "text/plain": [
       "  0%|          | 0/500 [00:00<?, ?req/s]"
      ]
     },
     "metadata": {},
     "output_type": "display_data"
    },
    {
     "data": {
      "application/vnd.jupyter.widget-view+json": {
       "model_id": "edb53653ba5342ac86840ee0cf704470",
       "version_major": 2,
       "version_minor": 0
      },
      "text/plain": [
       "RPM:   0%|          | 0/500"
      ]
     },
     "metadata": {},
     "output_type": "display_data"
    },
    {
     "data": {
      "application/vnd.jupyter.widget-view+json": {
       "model_id": "948dd775918f44d096afef1bd09f88c3",
       "version_major": 2,
       "version_minor": 0
      },
      "text/plain": [
       "TPM:   0%|          | 0/10000"
      ]
     },
     "metadata": {},
     "output_type": "display_data"
    },
    {
     "name": "stdout",
     "output_type": "stream",
     "text": [
      "\n",
      "Run took 12.15s.\n",
      "\n"
     ]
    },
    {
     "data": {
      "application/vnd.jupyter.widget-view+json": {
       "model_id": "4d7d75aacc6b4f708156babb26304dda",
       "version_major": 2,
       "version_minor": 0
      },
      "text/plain": [
       "  0%|          | 0/500 [00:00<?, ?req/s]"
      ]
     },
     "metadata": {},
     "output_type": "display_data"
    },
    {
     "data": {
      "application/vnd.jupyter.widget-view+json": {
       "model_id": "cabf462fdc4f41009ea1c7fd4c6694c4",
       "version_major": 2,
       "version_minor": 0
      },
      "text/plain": [
       "RPM:   0%|          | 0/500"
      ]
     },
     "metadata": {},
     "output_type": "display_data"
    },
    {
     "data": {
      "application/vnd.jupyter.widget-view+json": {
       "model_id": "f58dc191490c40b7af94bbcf3e444a75",
       "version_major": 2,
       "version_minor": 0
      },
      "text/plain": [
       "TPM:   0%|          | 0/10000"
      ]
     },
     "metadata": {},
     "output_type": "display_data"
    },
    {
     "name": "stdout",
     "output_type": "stream",
     "text": [
      "\n",
      "Run took 26.86s.\n",
      "\n",
      "Batch size: 500, Start index: 6500\n"
     ]
    },
    {
     "data": {
      "application/vnd.jupyter.widget-view+json": {
       "model_id": "a5aa529d04634e46a4f1f058f682b3a9",
       "version_major": 2,
       "version_minor": 0
      },
      "text/plain": [
       "  0%|          | 0/500 [00:00<?, ?req/s]"
      ]
     },
     "metadata": {},
     "output_type": "display_data"
    },
    {
     "data": {
      "application/vnd.jupyter.widget-view+json": {
       "model_id": "9571ad0002ec48a5a6a17b4e99602812",
       "version_major": 2,
       "version_minor": 0
      },
      "text/plain": [
       "RPM:   0%|          | 0/500"
      ]
     },
     "metadata": {},
     "output_type": "display_data"
    },
    {
     "data": {
      "application/vnd.jupyter.widget-view+json": {
       "model_id": "ec31d9af7f1c44a0bb87e1a2be72d803",
       "version_major": 2,
       "version_minor": 0
      },
      "text/plain": [
       "TPM:   0%|          | 0/10000"
      ]
     },
     "metadata": {},
     "output_type": "display_data"
    },
    {
     "name": "stdout",
     "output_type": "stream",
     "text": [
      "\n",
      "Run took 18.60s.\n",
      "\n"
     ]
    },
    {
     "data": {
      "application/vnd.jupyter.widget-view+json": {
       "model_id": "850c8148d447420a810f2ff8f4f7eddf",
       "version_major": 2,
       "version_minor": 0
      },
      "text/plain": [
       "  0%|          | 0/500 [00:00<?, ?req/s]"
      ]
     },
     "metadata": {},
     "output_type": "display_data"
    },
    {
     "data": {
      "application/vnd.jupyter.widget-view+json": {
       "model_id": "089e2cc983024ef2aaee4901689dd13d",
       "version_major": 2,
       "version_minor": 0
      },
      "text/plain": [
       "RPM:   0%|          | 0/500"
      ]
     },
     "metadata": {},
     "output_type": "display_data"
    },
    {
     "data": {
      "application/vnd.jupyter.widget-view+json": {
       "model_id": "d384891a04a745bc82f8585b57292209",
       "version_major": 2,
       "version_minor": 0
      },
      "text/plain": [
       "TPM:   0%|          | 0/10000"
      ]
     },
     "metadata": {},
     "output_type": "display_data"
    },
    {
     "name": "stdout",
     "output_type": "stream",
     "text": [
      "\n",
      "Run took 25.60s.\n",
      "\n",
      "Batch size: 500, Start index: 7000\n"
     ]
    },
    {
     "data": {
      "application/vnd.jupyter.widget-view+json": {
       "model_id": "e3defc46e2a748cfb1084ea844e79740",
       "version_major": 2,
       "version_minor": 0
      },
      "text/plain": [
       "  0%|          | 0/500 [00:00<?, ?req/s]"
      ]
     },
     "metadata": {},
     "output_type": "display_data"
    },
    {
     "data": {
      "application/vnd.jupyter.widget-view+json": {
       "model_id": "20d3991d4f544b8fa5f64bccacfbd7b1",
       "version_major": 2,
       "version_minor": 0
      },
      "text/plain": [
       "RPM:   0%|          | 0/500"
      ]
     },
     "metadata": {},
     "output_type": "display_data"
    },
    {
     "data": {
      "application/vnd.jupyter.widget-view+json": {
       "model_id": "0c160b48b5e44609a16ad03739fceda8",
       "version_major": 2,
       "version_minor": 0
      },
      "text/plain": [
       "TPM:   0%|          | 0/10000"
      ]
     },
     "metadata": {},
     "output_type": "display_data"
    },
    {
     "name": "stdout",
     "output_type": "stream",
     "text": [
      "\n",
      "Run took 18.37s.\n",
      "\n"
     ]
    },
    {
     "data": {
      "application/vnd.jupyter.widget-view+json": {
       "model_id": "4a95bec4ae114b469a7fa7cecab1f5f7",
       "version_major": 2,
       "version_minor": 0
      },
      "text/plain": [
       "  0%|          | 0/500 [00:00<?, ?req/s]"
      ]
     },
     "metadata": {},
     "output_type": "display_data"
    },
    {
     "data": {
      "application/vnd.jupyter.widget-view+json": {
       "model_id": "2d8f2f3a5b30442ebce4748d54098397",
       "version_major": 2,
       "version_minor": 0
      },
      "text/plain": [
       "RPM:   0%|          | 0/500"
      ]
     },
     "metadata": {},
     "output_type": "display_data"
    },
    {
     "data": {
      "application/vnd.jupyter.widget-view+json": {
       "model_id": "8c08f81fa7634f769582a7ff1d55a605",
       "version_major": 2,
       "version_minor": 0
      },
      "text/plain": [
       "TPM:   0%|          | 0/10000"
      ]
     },
     "metadata": {},
     "output_type": "display_data"
    },
    {
     "name": "stdout",
     "output_type": "stream",
     "text": [
      "\n",
      "Run took 21.57s.\n",
      "\n",
      "Batch size: 500, Start index: 7500\n"
     ]
    },
    {
     "data": {
      "application/vnd.jupyter.widget-view+json": {
       "model_id": "ccc9af76fcc94c11b032a658585f9432",
       "version_major": 2,
       "version_minor": 0
      },
      "text/plain": [
       "  0%|          | 0/500 [00:00<?, ?req/s]"
      ]
     },
     "metadata": {},
     "output_type": "display_data"
    },
    {
     "data": {
      "application/vnd.jupyter.widget-view+json": {
       "model_id": "b9c0cd5d731a462eadf28b1cdac8f2e5",
       "version_major": 2,
       "version_minor": 0
      },
      "text/plain": [
       "RPM:   0%|          | 0/500"
      ]
     },
     "metadata": {},
     "output_type": "display_data"
    },
    {
     "data": {
      "application/vnd.jupyter.widget-view+json": {
       "model_id": "6cecb4c9607848a1ab32a8b113fdadbb",
       "version_major": 2,
       "version_minor": 0
      },
      "text/plain": [
       "TPM:   0%|          | 0/10000"
      ]
     },
     "metadata": {},
     "output_type": "display_data"
    },
    {
     "name": "stdout",
     "output_type": "stream",
     "text": [
      "\n",
      "Run took 16.64s.\n",
      "\n"
     ]
    },
    {
     "data": {
      "application/vnd.jupyter.widget-view+json": {
       "model_id": "6c34effa611c450ebd2a3dd8176d3582",
       "version_major": 2,
       "version_minor": 0
      },
      "text/plain": [
       "  0%|          | 0/500 [00:00<?, ?req/s]"
      ]
     },
     "metadata": {},
     "output_type": "display_data"
    },
    {
     "data": {
      "application/vnd.jupyter.widget-view+json": {
       "model_id": "cdff0469401f4d7fb1469655f73c88e5",
       "version_major": 2,
       "version_minor": 0
      },
      "text/plain": [
       "RPM:   0%|          | 0/500"
      ]
     },
     "metadata": {},
     "output_type": "display_data"
    },
    {
     "data": {
      "application/vnd.jupyter.widget-view+json": {
       "model_id": "533e5ebea9a34528ae61fb5685aebcb3",
       "version_major": 2,
       "version_minor": 0
      },
      "text/plain": [
       "TPM:   0%|          | 0/10000"
      ]
     },
     "metadata": {},
     "output_type": "display_data"
    },
    {
     "name": "stdout",
     "output_type": "stream",
     "text": [
      "\n",
      "Run took 22.22s.\n",
      "\n",
      "Batch size: 500, Start index: 8000\n"
     ]
    },
    {
     "data": {
      "application/vnd.jupyter.widget-view+json": {
       "model_id": "0caf8b4b864a46ae89e3bc55f20992e4",
       "version_major": 2,
       "version_minor": 0
      },
      "text/plain": [
       "  0%|          | 0/500 [00:00<?, ?req/s]"
      ]
     },
     "metadata": {},
     "output_type": "display_data"
    },
    {
     "data": {
      "application/vnd.jupyter.widget-view+json": {
       "model_id": "b0b5f05f148846cda4afb3a664884900",
       "version_major": 2,
       "version_minor": 0
      },
      "text/plain": [
       "RPM:   0%|          | 0/500"
      ]
     },
     "metadata": {},
     "output_type": "display_data"
    },
    {
     "data": {
      "application/vnd.jupyter.widget-view+json": {
       "model_id": "6e69a563bc4041d88ad4107ccb8f9698",
       "version_major": 2,
       "version_minor": 0
      },
      "text/plain": [
       "TPM:   0%|          | 0/10000"
      ]
     },
     "metadata": {},
     "output_type": "display_data"
    },
    {
     "name": "stdout",
     "output_type": "stream",
     "text": [
      "\n",
      "Run took 14.43s.\n",
      "\n"
     ]
    },
    {
     "data": {
      "application/vnd.jupyter.widget-view+json": {
       "model_id": "e544367e434c41d9b6bffca6233418d4",
       "version_major": 2,
       "version_minor": 0
      },
      "text/plain": [
       "  0%|          | 0/500 [00:00<?, ?req/s]"
      ]
     },
     "metadata": {},
     "output_type": "display_data"
    },
    {
     "data": {
      "application/vnd.jupyter.widget-view+json": {
       "model_id": "9e7cdc117a1e4fe9b52d417b90d0c42e",
       "version_major": 2,
       "version_minor": 0
      },
      "text/plain": [
       "RPM:   0%|          | 0/500"
      ]
     },
     "metadata": {},
     "output_type": "display_data"
    },
    {
     "data": {
      "application/vnd.jupyter.widget-view+json": {
       "model_id": "1e480c8152cf4dafa87b837d6aac50db",
       "version_major": 2,
       "version_minor": 0
      },
      "text/plain": [
       "TPM:   0%|          | 0/10000"
      ]
     },
     "metadata": {},
     "output_type": "display_data"
    },
    {
     "name": "stdout",
     "output_type": "stream",
     "text": [
      "\n",
      "Run took 18.08s.\n",
      "\n",
      "Batch size: 500, Start index: 8500\n"
     ]
    },
    {
     "data": {
      "application/vnd.jupyter.widget-view+json": {
       "model_id": "58f216942dac441494c02d58fb395fbb",
       "version_major": 2,
       "version_minor": 0
      },
      "text/plain": [
       "  0%|          | 0/500 [00:00<?, ?req/s]"
      ]
     },
     "metadata": {},
     "output_type": "display_data"
    },
    {
     "data": {
      "application/vnd.jupyter.widget-view+json": {
       "model_id": "d97b466be317465bada7e13f1a6f904e",
       "version_major": 2,
       "version_minor": 0
      },
      "text/plain": [
       "RPM:   0%|          | 0/500"
      ]
     },
     "metadata": {},
     "output_type": "display_data"
    },
    {
     "data": {
      "application/vnd.jupyter.widget-view+json": {
       "model_id": "cb95d0c63991402aaaa0e7f58f2380f4",
       "version_major": 2,
       "version_minor": 0
      },
      "text/plain": [
       "TPM:   0%|          | 0/10000"
      ]
     },
     "metadata": {},
     "output_type": "display_data"
    },
    {
     "name": "stdout",
     "output_type": "stream",
     "text": [
      "\n",
      "Run took 15.56s.\n",
      "\n"
     ]
    },
    {
     "data": {
      "application/vnd.jupyter.widget-view+json": {
       "model_id": "8073b0dbe208486aa32251087ad3597c",
       "version_major": 2,
       "version_minor": 0
      },
      "text/plain": [
       "  0%|          | 0/500 [00:00<?, ?req/s]"
      ]
     },
     "metadata": {},
     "output_type": "display_data"
    },
    {
     "data": {
      "application/vnd.jupyter.widget-view+json": {
       "model_id": "57e32c75468545608ae8f6604e2627f2",
       "version_major": 2,
       "version_minor": 0
      },
      "text/plain": [
       "RPM:   0%|          | 0/500"
      ]
     },
     "metadata": {},
     "output_type": "display_data"
    },
    {
     "data": {
      "application/vnd.jupyter.widget-view+json": {
       "model_id": "44d853f89643434388ef6f4b82ab1806",
       "version_major": 2,
       "version_minor": 0
      },
      "text/plain": [
       "TPM:   0%|          | 0/10000"
      ]
     },
     "metadata": {},
     "output_type": "display_data"
    },
    {
     "name": "stdout",
     "output_type": "stream",
     "text": [
      "\n",
      "Run took 27.43s.\n",
      "\n",
      "Batch size: 500, Start index: 9000\n"
     ]
    },
    {
     "data": {
      "application/vnd.jupyter.widget-view+json": {
       "model_id": "f2d88b8b5388438d857d7d1d4dbec42e",
       "version_major": 2,
       "version_minor": 0
      },
      "text/plain": [
       "  0%|          | 0/500 [00:00<?, ?req/s]"
      ]
     },
     "metadata": {},
     "output_type": "display_data"
    },
    {
     "data": {
      "application/vnd.jupyter.widget-view+json": {
       "model_id": "d60d2291177a40de8a2784ec64f8cde8",
       "version_major": 2,
       "version_minor": 0
      },
      "text/plain": [
       "RPM:   0%|          | 0/500"
      ]
     },
     "metadata": {},
     "output_type": "display_data"
    },
    {
     "data": {
      "application/vnd.jupyter.widget-view+json": {
       "model_id": "45ba66c45a5a4667af8ada3ba0fd30c7",
       "version_major": 2,
       "version_minor": 0
      },
      "text/plain": [
       "TPM:   0%|          | 0/10000"
      ]
     },
     "metadata": {},
     "output_type": "display_data"
    },
    {
     "name": "stdout",
     "output_type": "stream",
     "text": [
      "\n",
      "Run took 16.24s.\n",
      "\n"
     ]
    },
    {
     "data": {
      "application/vnd.jupyter.widget-view+json": {
       "model_id": "3a74f7d519be4acd91365991c9462aba",
       "version_major": 2,
       "version_minor": 0
      },
      "text/plain": [
       "  0%|          | 0/500 [00:00<?, ?req/s]"
      ]
     },
     "metadata": {},
     "output_type": "display_data"
    },
    {
     "data": {
      "application/vnd.jupyter.widget-view+json": {
       "model_id": "04ec6d7462c34c23b51c40bb2ddad838",
       "version_major": 2,
       "version_minor": 0
      },
      "text/plain": [
       "RPM:   0%|          | 0/500"
      ]
     },
     "metadata": {},
     "output_type": "display_data"
    },
    {
     "data": {
      "application/vnd.jupyter.widget-view+json": {
       "model_id": "1d399c25e187418cb5a68f47ca6c5b6f",
       "version_major": 2,
       "version_minor": 0
      },
      "text/plain": [
       "TPM:   0%|          | 0/10000"
      ]
     },
     "metadata": {},
     "output_type": "display_data"
    },
    {
     "name": "stdout",
     "output_type": "stream",
     "text": [
      "\n",
      "Run took 25.10s.\n",
      "\n",
      "Batch size: 500, Start index: 9500\n"
     ]
    },
    {
     "data": {
      "application/vnd.jupyter.widget-view+json": {
       "model_id": "84624fa946d84628843a076c8d122374",
       "version_major": 2,
       "version_minor": 0
      },
      "text/plain": [
       "  0%|          | 0/500 [00:00<?, ?req/s]"
      ]
     },
     "metadata": {},
     "output_type": "display_data"
    },
    {
     "data": {
      "application/vnd.jupyter.widget-view+json": {
       "model_id": "f4edaa7764d2403485c51139d87dfc87",
       "version_major": 2,
       "version_minor": 0
      },
      "text/plain": [
       "RPM:   0%|          | 0/500"
      ]
     },
     "metadata": {},
     "output_type": "display_data"
    },
    {
     "data": {
      "application/vnd.jupyter.widget-view+json": {
       "model_id": "6efb1e6447f94967b2488d430d8c36bc",
       "version_major": 2,
       "version_minor": 0
      },
      "text/plain": [
       "TPM:   0%|          | 0/10000"
      ]
     },
     "metadata": {},
     "output_type": "display_data"
    },
    {
     "name": "stdout",
     "output_type": "stream",
     "text": [
      "\n",
      "Run took 23.24s.\n",
      "\n"
     ]
    },
    {
     "data": {
      "application/vnd.jupyter.widget-view+json": {
       "model_id": "c80b616e1bf74c41aa8b6fbc4b7311df",
       "version_major": 2,
       "version_minor": 0
      },
      "text/plain": [
       "  0%|          | 0/500 [00:00<?, ?req/s]"
      ]
     },
     "metadata": {},
     "output_type": "display_data"
    },
    {
     "data": {
      "application/vnd.jupyter.widget-view+json": {
       "model_id": "a8e506f5af8440659e3bd67e0af748e2",
       "version_major": 2,
       "version_minor": 0
      },
      "text/plain": [
       "RPM:   0%|          | 0/500"
      ]
     },
     "metadata": {},
     "output_type": "display_data"
    },
    {
     "data": {
      "application/vnd.jupyter.widget-view+json": {
       "model_id": "c5b6b16183354d66877cf8330f1650bd",
       "version_major": 2,
       "version_minor": 0
      },
      "text/plain": [
       "TPM:   0%|          | 0/10000"
      ]
     },
     "metadata": {},
     "output_type": "display_data"
    },
    {
     "name": "stdout",
     "output_type": "stream",
     "text": [
      "\n",
      "Run took 8.38s.\n",
      "\n",
      "Batch size: 500, Start index: 10000\n"
     ]
    },
    {
     "data": {
      "application/vnd.jupyter.widget-view+json": {
       "model_id": "1d3a6eaead4d40c3b01fd8787de7281f",
       "version_major": 2,
       "version_minor": 0
      },
      "text/plain": [
       "  0%|          | 0/500 [00:00<?, ?req/s]"
      ]
     },
     "metadata": {},
     "output_type": "display_data"
    },
    {
     "data": {
      "application/vnd.jupyter.widget-view+json": {
       "model_id": "8d05214663834139ba0f2a63c2edc668",
       "version_major": 2,
       "version_minor": 0
      },
      "text/plain": [
       "RPM:   0%|          | 0/500"
      ]
     },
     "metadata": {},
     "output_type": "display_data"
    },
    {
     "data": {
      "application/vnd.jupyter.widget-view+json": {
       "model_id": "48fd79ac0304465f9498640936cfe3b1",
       "version_major": 2,
       "version_minor": 0
      },
      "text/plain": [
       "TPM:   0%|          | 0/10000"
      ]
     },
     "metadata": {},
     "output_type": "display_data"
    },
    {
     "name": "stdout",
     "output_type": "stream",
     "text": [
      "\n",
      "Run took 16.79s.\n",
      "\n"
     ]
    },
    {
     "data": {
      "application/vnd.jupyter.widget-view+json": {
       "model_id": "fa97956cb2584ed7ad6a50550ffad5ae",
       "version_major": 2,
       "version_minor": 0
      },
      "text/plain": [
       "  0%|          | 0/500 [00:00<?, ?req/s]"
      ]
     },
     "metadata": {},
     "output_type": "display_data"
    },
    {
     "data": {
      "application/vnd.jupyter.widget-view+json": {
       "model_id": "6db32deff5844f979d2de6433551462c",
       "version_major": 2,
       "version_minor": 0
      },
      "text/plain": [
       "RPM:   0%|          | 0/500"
      ]
     },
     "metadata": {},
     "output_type": "display_data"
    },
    {
     "data": {
      "application/vnd.jupyter.widget-view+json": {
       "model_id": "0502a61d4368407a9aa601e3c0e15287",
       "version_major": 2,
       "version_minor": 0
      },
      "text/plain": [
       "TPM:   0%|          | 0/10000"
      ]
     },
     "metadata": {},
     "output_type": "display_data"
    },
    {
     "name": "stdout",
     "output_type": "stream",
     "text": [
      "\n",
      "Run took 20.61s.\n",
      "\n",
      "Batch size: 500, Start index: 10500\n"
     ]
    },
    {
     "data": {
      "application/vnd.jupyter.widget-view+json": {
       "model_id": "3d2e811095c8457696104b65bb8f1044",
       "version_major": 2,
       "version_minor": 0
      },
      "text/plain": [
       "  0%|          | 0/500 [00:00<?, ?req/s]"
      ]
     },
     "metadata": {},
     "output_type": "display_data"
    },
    {
     "data": {
      "application/vnd.jupyter.widget-view+json": {
       "model_id": "7879efbe3fb145638c501e0f5ffee277",
       "version_major": 2,
       "version_minor": 0
      },
      "text/plain": [
       "RPM:   0%|          | 0/500"
      ]
     },
     "metadata": {},
     "output_type": "display_data"
    },
    {
     "data": {
      "application/vnd.jupyter.widget-view+json": {
       "model_id": "20a3cb480bae4fdc8f7552915691f6e0",
       "version_major": 2,
       "version_minor": 0
      },
      "text/plain": [
       "TPM:   0%|          | 0/10000"
      ]
     },
     "metadata": {},
     "output_type": "display_data"
    },
    {
     "name": "stdout",
     "output_type": "stream",
     "text": [
      "\n",
      "Run took 13.92s.\n",
      "\n"
     ]
    },
    {
     "data": {
      "application/vnd.jupyter.widget-view+json": {
       "model_id": "cb7aefc6f3d94db0b1080c5f9880fc43",
       "version_major": 2,
       "version_minor": 0
      },
      "text/plain": [
       "  0%|          | 0/500 [00:00<?, ?req/s]"
      ]
     },
     "metadata": {},
     "output_type": "display_data"
    },
    {
     "data": {
      "application/vnd.jupyter.widget-view+json": {
       "model_id": "e77f2a7b75b0404db1a1de644fe343bd",
       "version_major": 2,
       "version_minor": 0
      },
      "text/plain": [
       "RPM:   0%|          | 0/500"
      ]
     },
     "metadata": {},
     "output_type": "display_data"
    },
    {
     "data": {
      "application/vnd.jupyter.widget-view+json": {
       "model_id": "d2e4bfe00e8e44a8b557ed16a859e534",
       "version_major": 2,
       "version_minor": 0
      },
      "text/plain": [
       "TPM:   0%|          | 0/10000"
      ]
     },
     "metadata": {},
     "output_type": "display_data"
    },
    {
     "name": "stdout",
     "output_type": "stream",
     "text": [
      "\n",
      "Run took 25.24s.\n",
      "\n",
      "Batch size: 500, Start index: 11000\n"
     ]
    },
    {
     "data": {
      "application/vnd.jupyter.widget-view+json": {
       "model_id": "2222ac731a7141479cbdaa49cd8e38ae",
       "version_major": 2,
       "version_minor": 0
      },
      "text/plain": [
       "  0%|          | 0/500 [00:00<?, ?req/s]"
      ]
     },
     "metadata": {},
     "output_type": "display_data"
    },
    {
     "data": {
      "application/vnd.jupyter.widget-view+json": {
       "model_id": "0de305e53bbf4375af4ceaf9b3363494",
       "version_major": 2,
       "version_minor": 0
      },
      "text/plain": [
       "RPM:   0%|          | 0/500"
      ]
     },
     "metadata": {},
     "output_type": "display_data"
    },
    {
     "data": {
      "application/vnd.jupyter.widget-view+json": {
       "model_id": "4e83937a0ec742419979d2e895e01768",
       "version_major": 2,
       "version_minor": 0
      },
      "text/plain": [
       "TPM:   0%|          | 0/10000"
      ]
     },
     "metadata": {},
     "output_type": "display_data"
    },
    {
     "name": "stdout",
     "output_type": "stream",
     "text": [
      "\n",
      "Run took 13.28s.\n",
      "\n"
     ]
    },
    {
     "data": {
      "application/vnd.jupyter.widget-view+json": {
       "model_id": "cd6db9087a514f3b8bdc137f7d92f24f",
       "version_major": 2,
       "version_minor": 0
      },
      "text/plain": [
       "  0%|          | 0/500 [00:00<?, ?req/s]"
      ]
     },
     "metadata": {},
     "output_type": "display_data"
    },
    {
     "data": {
      "application/vnd.jupyter.widget-view+json": {
       "model_id": "5512ab22061241b5830d01463fa79072",
       "version_major": 2,
       "version_minor": 0
      },
      "text/plain": [
       "RPM:   0%|          | 0/500"
      ]
     },
     "metadata": {},
     "output_type": "display_data"
    },
    {
     "data": {
      "application/vnd.jupyter.widget-view+json": {
       "model_id": "8e31e5ef6d1d4b328f98e22e2e55c631",
       "version_major": 2,
       "version_minor": 0
      },
      "text/plain": [
       "TPM:   0%|          | 0/10000"
      ]
     },
     "metadata": {},
     "output_type": "display_data"
    },
    {
     "name": "stdout",
     "output_type": "stream",
     "text": [
      "\n",
      "Run took 11.68s.\n",
      "\n",
      "Batch size: 500, Start index: 11500\n"
     ]
    },
    {
     "data": {
      "application/vnd.jupyter.widget-view+json": {
       "model_id": "5e006c3a3e6249e0b24259410eba1875",
       "version_major": 2,
       "version_minor": 0
      },
      "text/plain": [
       "  0%|          | 0/500 [00:00<?, ?req/s]"
      ]
     },
     "metadata": {},
     "output_type": "display_data"
    },
    {
     "data": {
      "application/vnd.jupyter.widget-view+json": {
       "model_id": "e03859b68a7f44f48fbd4b123d9c380a",
       "version_major": 2,
       "version_minor": 0
      },
      "text/plain": [
       "RPM:   0%|          | 0/500"
      ]
     },
     "metadata": {},
     "output_type": "display_data"
    },
    {
     "data": {
      "application/vnd.jupyter.widget-view+json": {
       "model_id": "f1388eabf825409da406099a6fb27cfe",
       "version_major": 2,
       "version_minor": 0
      },
      "text/plain": [
       "TPM:   0%|          | 0/10000"
      ]
     },
     "metadata": {},
     "output_type": "display_data"
    },
    {
     "name": "stdout",
     "output_type": "stream",
     "text": [
      "\n",
      "Run took 15.22s.\n",
      "\n"
     ]
    },
    {
     "data": {
      "application/vnd.jupyter.widget-view+json": {
       "model_id": "0fbbcb7f6aeb4c0890aa5bdc80057cbd",
       "version_major": 2,
       "version_minor": 0
      },
      "text/plain": [
       "  0%|          | 0/500 [00:00<?, ?req/s]"
      ]
     },
     "metadata": {},
     "output_type": "display_data"
    },
    {
     "data": {
      "application/vnd.jupyter.widget-view+json": {
       "model_id": "5d68d660521043c3849e43cd06dea779",
       "version_major": 2,
       "version_minor": 0
      },
      "text/plain": [
       "RPM:   0%|          | 0/500"
      ]
     },
     "metadata": {},
     "output_type": "display_data"
    },
    {
     "data": {
      "application/vnd.jupyter.widget-view+json": {
       "model_id": "4baba75c1f944869971c1b7c1fe5502f",
       "version_major": 2,
       "version_minor": 0
      },
      "text/plain": [
       "TPM:   0%|          | 0/10000"
      ]
     },
     "metadata": {},
     "output_type": "display_data"
    },
    {
     "name": "stdout",
     "output_type": "stream",
     "text": [
      "\n",
      "Run took 19.54s.\n",
      "\n",
      "Batch size: 500, Start index: 12000\n"
     ]
    },
    {
     "data": {
      "application/vnd.jupyter.widget-view+json": {
       "model_id": "9dae96d82bce43f4a855ddeeb03bab08",
       "version_major": 2,
       "version_minor": 0
      },
      "text/plain": [
       "  0%|          | 0/500 [00:00<?, ?req/s]"
      ]
     },
     "metadata": {},
     "output_type": "display_data"
    },
    {
     "data": {
      "application/vnd.jupyter.widget-view+json": {
       "model_id": "b440fca89b874f1b8cebe12f3580ea72",
       "version_major": 2,
       "version_minor": 0
      },
      "text/plain": [
       "RPM:   0%|          | 0/500"
      ]
     },
     "metadata": {},
     "output_type": "display_data"
    },
    {
     "data": {
      "application/vnd.jupyter.widget-view+json": {
       "model_id": "a82aa199e8fb49f9a4435d61d080df3d",
       "version_major": 2,
       "version_minor": 0
      },
      "text/plain": [
       "TPM:   0%|          | 0/10000"
      ]
     },
     "metadata": {},
     "output_type": "display_data"
    },
    {
     "name": "stdout",
     "output_type": "stream",
     "text": [
      "\n",
      "Run took 64.05s.\n",
      "\n"
     ]
    },
    {
     "data": {
      "application/vnd.jupyter.widget-view+json": {
       "model_id": "fc2efa20669b43ea9d938efad6986a0b",
       "version_major": 2,
       "version_minor": 0
      },
      "text/plain": [
       "  0%|          | 0/499 [00:00<?, ?req/s]"
      ]
     },
     "metadata": {},
     "output_type": "display_data"
    },
    {
     "data": {
      "application/vnd.jupyter.widget-view+json": {
       "model_id": "570ca95c5b6f41cc8a4675c66899f7d4",
       "version_major": 2,
       "version_minor": 0
      },
      "text/plain": [
       "RPM:   0%|          | 0/500"
      ]
     },
     "metadata": {},
     "output_type": "display_data"
    },
    {
     "data": {
      "application/vnd.jupyter.widget-view+json": {
       "model_id": "cea0f4b2f47c45149679bcf89b9c005e",
       "version_major": 2,
       "version_minor": 0
      },
      "text/plain": [
       "TPM:   0%|          | 0/10000"
      ]
     },
     "metadata": {},
     "output_type": "display_data"
    },
    {
     "name": "stdout",
     "output_type": "stream",
     "text": [
      "\n",
      "Run took 19.92s.\n",
      "\n"
     ]
    },
    {
     "ename": "ArrowInvalid",
     "evalue": "Column 4 named normal-answer expected length 500 but got length 499",
     "output_type": "error",
     "traceback": [
      "\u001b[0;31m---------------------------------------------------------------------------\u001b[0m",
      "\u001b[0;31mArrowInvalid\u001b[0m                              Traceback (most recent call last)",
      "Cell \u001b[0;32mIn[5], line 4\u001b[0m\n\u001b[1;32m      1\u001b[0m \u001b[38;5;66;03m# Generate both normal and brief answers in batches.\u001b[39;00m\n\u001b[1;32m      3\u001b[0m \u001b[38;5;28;01mwith\u001b[39;00m \u001b[38;5;28mopen\u001b[39m(out_file_name, \u001b[38;5;124m'\u001b[39m\u001b[38;5;124ma\u001b[39m\u001b[38;5;124m'\u001b[39m) \u001b[38;5;28;01mas\u001b[39;00m f:\n\u001b[0;32m----> 4\u001b[0m     ds \u001b[38;5;241m=\u001b[39m \u001b[43mds\u001b[49m\u001b[38;5;241;43m.\u001b[39;49m\u001b[43mmap\u001b[49m\u001b[43m(\u001b[49m\u001b[43mprocess_batch_sync\u001b[49m\u001b[43m,\u001b[49m\u001b[43m \u001b[49m\u001b[43mbatched\u001b[49m\u001b[38;5;241;43m=\u001b[39;49m\u001b[38;5;28;43;01mTrue\u001b[39;49;00m\u001b[43m,\u001b[49m\u001b[43m \u001b[49m\u001b[43mbatch_size\u001b[49m\u001b[38;5;241;43m=\u001b[39;49m\u001b[43mbatch_size\u001b[49m\u001b[43m,\u001b[49m\u001b[43m \u001b[49m\u001b[43mwith_indices\u001b[49m\u001b[38;5;241;43m=\u001b[39;49m\u001b[38;5;28;43;01mTrue\u001b[39;49;00m\u001b[43m,\u001b[49m\n\u001b[1;32m      5\u001b[0m \u001b[43m                \u001b[49m\u001b[43mcache_file_name\u001b[49m\u001b[38;5;241;43m=\u001b[39;49m\u001b[43mcache_file_name\u001b[49m\u001b[43m,\u001b[49m\u001b[43m \u001b[49m\u001b[43mfn_kwargs\u001b[49m\u001b[38;5;241;43m=\u001b[39;49m\u001b[43m{\u001b[49m\u001b[38;5;124;43m'\u001b[39;49m\u001b[38;5;124;43mfile_handle\u001b[39;49m\u001b[38;5;124;43m'\u001b[39;49m\u001b[43m:\u001b[49m\u001b[43m \u001b[49m\u001b[43mf\u001b[49m\u001b[43m}\u001b[49m\u001b[43m)\u001b[49m\n\u001b[1;32m      7\u001b[0m pprint(ds[\u001b[38;5;241m4\u001b[39m]) \u001b[38;5;66;03m# Print a sample row.\u001b[39;00m\n",
      "File \u001b[0;32m~/ml-projects/ShortGPT/.venv-shortgpt/lib/python3.10/site-packages/datasets/arrow_dataset.py:602\u001b[0m, in \u001b[0;36mtransmit_tasks.<locals>.wrapper\u001b[0;34m(*args, **kwargs)\u001b[0m\n\u001b[1;32m    600\u001b[0m     \u001b[38;5;28mself\u001b[39m: \u001b[38;5;124m\"\u001b[39m\u001b[38;5;124mDataset\u001b[39m\u001b[38;5;124m\"\u001b[39m \u001b[38;5;241m=\u001b[39m kwargs\u001b[38;5;241m.\u001b[39mpop(\u001b[38;5;124m\"\u001b[39m\u001b[38;5;124mself\u001b[39m\u001b[38;5;124m\"\u001b[39m)\n\u001b[1;32m    601\u001b[0m \u001b[38;5;66;03m# apply actual function\u001b[39;00m\n\u001b[0;32m--> 602\u001b[0m out: Union[\u001b[38;5;124m\"\u001b[39m\u001b[38;5;124mDataset\u001b[39m\u001b[38;5;124m\"\u001b[39m, \u001b[38;5;124m\"\u001b[39m\u001b[38;5;124mDatasetDict\u001b[39m\u001b[38;5;124m\"\u001b[39m] \u001b[38;5;241m=\u001b[39m \u001b[43mfunc\u001b[49m\u001b[43m(\u001b[49m\u001b[38;5;28;43mself\u001b[39;49m\u001b[43m,\u001b[49m\u001b[43m \u001b[49m\u001b[38;5;241;43m*\u001b[39;49m\u001b[43margs\u001b[49m\u001b[43m,\u001b[49m\u001b[43m \u001b[49m\u001b[38;5;241;43m*\u001b[39;49m\u001b[38;5;241;43m*\u001b[39;49m\u001b[43mkwargs\u001b[49m\u001b[43m)\u001b[49m\n\u001b[1;32m    603\u001b[0m datasets: List[\u001b[38;5;124m\"\u001b[39m\u001b[38;5;124mDataset\u001b[39m\u001b[38;5;124m\"\u001b[39m] \u001b[38;5;241m=\u001b[39m \u001b[38;5;28mlist\u001b[39m(out\u001b[38;5;241m.\u001b[39mvalues()) \u001b[38;5;28;01mif\u001b[39;00m \u001b[38;5;28misinstance\u001b[39m(out, \u001b[38;5;28mdict\u001b[39m) \u001b[38;5;28;01melse\u001b[39;00m [out]\n\u001b[1;32m    604\u001b[0m \u001b[38;5;28;01mfor\u001b[39;00m dataset \u001b[38;5;129;01min\u001b[39;00m datasets:\n\u001b[1;32m    605\u001b[0m     \u001b[38;5;66;03m# Remove task templates if a column mapping of the template is no longer valid\u001b[39;00m\n",
      "File \u001b[0;32m~/ml-projects/ShortGPT/.venv-shortgpt/lib/python3.10/site-packages/datasets/arrow_dataset.py:567\u001b[0m, in \u001b[0;36mtransmit_format.<locals>.wrapper\u001b[0;34m(*args, **kwargs)\u001b[0m\n\u001b[1;32m    560\u001b[0m self_format \u001b[38;5;241m=\u001b[39m {\n\u001b[1;32m    561\u001b[0m     \u001b[38;5;124m\"\u001b[39m\u001b[38;5;124mtype\u001b[39m\u001b[38;5;124m\"\u001b[39m: \u001b[38;5;28mself\u001b[39m\u001b[38;5;241m.\u001b[39m_format_type,\n\u001b[1;32m    562\u001b[0m     \u001b[38;5;124m\"\u001b[39m\u001b[38;5;124mformat_kwargs\u001b[39m\u001b[38;5;124m\"\u001b[39m: \u001b[38;5;28mself\u001b[39m\u001b[38;5;241m.\u001b[39m_format_kwargs,\n\u001b[1;32m    563\u001b[0m     \u001b[38;5;124m\"\u001b[39m\u001b[38;5;124mcolumns\u001b[39m\u001b[38;5;124m\"\u001b[39m: \u001b[38;5;28mself\u001b[39m\u001b[38;5;241m.\u001b[39m_format_columns,\n\u001b[1;32m    564\u001b[0m     \u001b[38;5;124m\"\u001b[39m\u001b[38;5;124moutput_all_columns\u001b[39m\u001b[38;5;124m\"\u001b[39m: \u001b[38;5;28mself\u001b[39m\u001b[38;5;241m.\u001b[39m_output_all_columns,\n\u001b[1;32m    565\u001b[0m }\n\u001b[1;32m    566\u001b[0m \u001b[38;5;66;03m# apply actual function\u001b[39;00m\n\u001b[0;32m--> 567\u001b[0m out: Union[\u001b[38;5;124m\"\u001b[39m\u001b[38;5;124mDataset\u001b[39m\u001b[38;5;124m\"\u001b[39m, \u001b[38;5;124m\"\u001b[39m\u001b[38;5;124mDatasetDict\u001b[39m\u001b[38;5;124m\"\u001b[39m] \u001b[38;5;241m=\u001b[39m \u001b[43mfunc\u001b[49m\u001b[43m(\u001b[49m\u001b[38;5;28;43mself\u001b[39;49m\u001b[43m,\u001b[49m\u001b[43m \u001b[49m\u001b[38;5;241;43m*\u001b[39;49m\u001b[43margs\u001b[49m\u001b[43m,\u001b[49m\u001b[43m \u001b[49m\u001b[38;5;241;43m*\u001b[39;49m\u001b[38;5;241;43m*\u001b[39;49m\u001b[43mkwargs\u001b[49m\u001b[43m)\u001b[49m\n\u001b[1;32m    568\u001b[0m datasets: List[\u001b[38;5;124m\"\u001b[39m\u001b[38;5;124mDataset\u001b[39m\u001b[38;5;124m\"\u001b[39m] \u001b[38;5;241m=\u001b[39m \u001b[38;5;28mlist\u001b[39m(out\u001b[38;5;241m.\u001b[39mvalues()) \u001b[38;5;28;01mif\u001b[39;00m \u001b[38;5;28misinstance\u001b[39m(out, \u001b[38;5;28mdict\u001b[39m) \u001b[38;5;28;01melse\u001b[39;00m [out]\n\u001b[1;32m    569\u001b[0m \u001b[38;5;66;03m# re-apply format to the output\u001b[39;00m\n",
      "File \u001b[0;32m~/ml-projects/ShortGPT/.venv-shortgpt/lib/python3.10/site-packages/datasets/arrow_dataset.py:3167\u001b[0m, in \u001b[0;36mDataset.map\u001b[0;34m(self, function, with_indices, with_rank, input_columns, batched, batch_size, drop_last_batch, remove_columns, keep_in_memory, load_from_cache_file, cache_file_name, writer_batch_size, features, disable_nullable, fn_kwargs, num_proc, suffix_template, new_fingerprint, desc)\u001b[0m\n\u001b[1;32m   3161\u001b[0m \u001b[38;5;28;01mif\u001b[39;00m transformed_dataset \u001b[38;5;129;01mis\u001b[39;00m \u001b[38;5;28;01mNone\u001b[39;00m:\n\u001b[1;32m   3162\u001b[0m     \u001b[38;5;28;01mwith\u001b[39;00m hf_tqdm(\n\u001b[1;32m   3163\u001b[0m         unit\u001b[38;5;241m=\u001b[39m\u001b[38;5;124m\"\u001b[39m\u001b[38;5;124m examples\u001b[39m\u001b[38;5;124m\"\u001b[39m,\n\u001b[1;32m   3164\u001b[0m         total\u001b[38;5;241m=\u001b[39mpbar_total,\n\u001b[1;32m   3165\u001b[0m         desc\u001b[38;5;241m=\u001b[39mdesc \u001b[38;5;129;01mor\u001b[39;00m \u001b[38;5;124m\"\u001b[39m\u001b[38;5;124mMap\u001b[39m\u001b[38;5;124m\"\u001b[39m,\n\u001b[1;32m   3166\u001b[0m     ) \u001b[38;5;28;01mas\u001b[39;00m pbar:\n\u001b[0;32m-> 3167\u001b[0m         \u001b[38;5;28;01mfor\u001b[39;00m rank, done, content \u001b[38;5;129;01min\u001b[39;00m Dataset\u001b[38;5;241m.\u001b[39m_map_single(\u001b[38;5;241m*\u001b[39m\u001b[38;5;241m*\u001b[39mdataset_kwargs):\n\u001b[1;32m   3168\u001b[0m             \u001b[38;5;28;01mif\u001b[39;00m done:\n\u001b[1;32m   3169\u001b[0m                 shards_done \u001b[38;5;241m+\u001b[39m\u001b[38;5;241m=\u001b[39m \u001b[38;5;241m1\u001b[39m\n",
      "File \u001b[0;32m~/ml-projects/ShortGPT/.venv-shortgpt/lib/python3.10/site-packages/datasets/arrow_dataset.py:3581\u001b[0m, in \u001b[0;36mDataset._map_single\u001b[0;34m(shard, function, with_indices, with_rank, input_columns, batched, batch_size, drop_last_batch, remove_columns, keep_in_memory, cache_file_name, writer_batch_size, features, disable_nullable, fn_kwargs, new_fingerprint, rank, offset)\u001b[0m\n\u001b[1;32m   3579\u001b[0m         writer\u001b[38;5;241m.\u001b[39mwrite_table(batch\u001b[38;5;241m.\u001b[39mto_arrow())\n\u001b[1;32m   3580\u001b[0m     \u001b[38;5;28;01melse\u001b[39;00m:\n\u001b[0;32m-> 3581\u001b[0m         \u001b[43mwriter\u001b[49m\u001b[38;5;241;43m.\u001b[39;49m\u001b[43mwrite_batch\u001b[49m\u001b[43m(\u001b[49m\u001b[43mbatch\u001b[49m\u001b[43m)\u001b[49m\n\u001b[1;32m   3582\u001b[0m num_examples_progress_update \u001b[38;5;241m+\u001b[39m\u001b[38;5;241m=\u001b[39m num_examples_in_batch\n\u001b[1;32m   3583\u001b[0m \u001b[38;5;28;01mif\u001b[39;00m time\u001b[38;5;241m.\u001b[39mtime() \u001b[38;5;241m>\u001b[39m _time \u001b[38;5;241m+\u001b[39m config\u001b[38;5;241m.\u001b[39mPBAR_REFRESH_TIME_INTERVAL:\n",
      "File \u001b[0;32m~/ml-projects/ShortGPT/.venv-shortgpt/lib/python3.10/site-packages/datasets/arrow_writer.py:571\u001b[0m, in \u001b[0;36mArrowWriter.write_batch\u001b[0;34m(self, batch_examples, writer_batch_size)\u001b[0m\n\u001b[1;32m    569\u001b[0m         inferred_features[col] \u001b[38;5;241m=\u001b[39m typed_sequence\u001b[38;5;241m.\u001b[39mget_inferred_type()\n\u001b[1;32m    570\u001b[0m schema \u001b[38;5;241m=\u001b[39m inferred_features\u001b[38;5;241m.\u001b[39marrow_schema \u001b[38;5;28;01mif\u001b[39;00m \u001b[38;5;28mself\u001b[39m\u001b[38;5;241m.\u001b[39mpa_writer \u001b[38;5;129;01mis\u001b[39;00m \u001b[38;5;28;01mNone\u001b[39;00m \u001b[38;5;28;01melse\u001b[39;00m \u001b[38;5;28mself\u001b[39m\u001b[38;5;241m.\u001b[39mschema\n\u001b[0;32m--> 571\u001b[0m pa_table \u001b[38;5;241m=\u001b[39m \u001b[43mpa\u001b[49m\u001b[38;5;241;43m.\u001b[39;49m\u001b[43mTable\u001b[49m\u001b[38;5;241;43m.\u001b[39;49m\u001b[43mfrom_arrays\u001b[49m\u001b[43m(\u001b[49m\u001b[43marrays\u001b[49m\u001b[43m,\u001b[49m\u001b[43m \u001b[49m\u001b[43mschema\u001b[49m\u001b[38;5;241;43m=\u001b[39;49m\u001b[43mschema\u001b[49m\u001b[43m)\u001b[49m\n\u001b[1;32m    572\u001b[0m \u001b[38;5;28mself\u001b[39m\u001b[38;5;241m.\u001b[39mwrite_table(pa_table, writer_batch_size)\n",
      "File \u001b[0;32m~/ml-projects/ShortGPT/.venv-shortgpt/lib/python3.10/site-packages/pyarrow/table.pxi:4740\u001b[0m, in \u001b[0;36mpyarrow.lib.Table.from_arrays\u001b[0;34m()\u001b[0m\n",
      "File \u001b[0;32m~/ml-projects/ShortGPT/.venv-shortgpt/lib/python3.10/site-packages/pyarrow/table.pxi:4092\u001b[0m, in \u001b[0;36mpyarrow.lib.Table.validate\u001b[0;34m()\u001b[0m\n",
      "File \u001b[0;32m~/ml-projects/ShortGPT/.venv-shortgpt/lib/python3.10/site-packages/pyarrow/error.pxi:92\u001b[0m, in \u001b[0;36mpyarrow.lib.check_status\u001b[0;34m()\u001b[0m\n",
      "\u001b[0;31mArrowInvalid\u001b[0m: Column 4 named normal-answer expected length 500 but got length 499"
     ]
    }
   ],
   "source": [
    "# Generate both normal and brief answers in batches.\n",
    "\n",
    "with open(out_file_name, 'a') as f:\n",
    "    ds = ds.map(process_batch_sync, batched=True, batch_size=batch_size, with_indices=True,\n",
    "                cache_file_name=cache_file_name, fn_kwargs={'file_handle': f})\n",
    "\n",
    "pprint(ds[4]) # Print a sample row."
   ]
  },
  {
   "cell_type": "code",
   "execution_count": null,
   "metadata": {},
   "outputs": [],
   "source": [
    "### DEBUG CELL ###\n",
    "\n",
    "# Access and print the cache file paths\n",
    "for cache_file in ds.cache_files:\n",
    "    print(cache_file['filename'])\n",
    "\n",
    "for i in range(11, 15):\n",
    "    print(f\"Q: {ds[i]['question']}\")\n",
    "    print(f\"NORMAL: {ds[i]['normal-answer']}\") \n",
    "    print(f\"BRIEF: {ds[i]['brief-answer']}\") \n",
    "    print(\"-------------------------------\")\n",
    "\n",
    "print(f\"Total price: {total_price:.2f} USD\")"
   ]
  }
 ],
 "metadata": {
  "kernelspec": {
   "display_name": ".venv-shortgpt",
   "language": "python",
   "name": "python3"
  },
  "language_info": {
   "codemirror_mode": {
    "name": "ipython",
    "version": 3
   },
   "file_extension": ".py",
   "mimetype": "text/x-python",
   "name": "python",
   "nbconvert_exporter": "python",
   "pygments_lexer": "ipython3",
   "version": "3.10.12"
  }
 },
 "nbformat": 4,
 "nbformat_minor": 2
}

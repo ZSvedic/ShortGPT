{
 "cells": [
  {
   "cell_type": "code",
   "execution_count": 1,
   "metadata": {},
   "outputs": [
    {
     "name": "stdout",
     "output_type": "stream",
     "text": [
      "DatasetDict({\n",
      "    train: Dataset({\n",
      "        features: ['question-id', 'prompt', 'chosen', 'rejected'],\n",
      "        num_rows: 22941\n",
      "    })\n",
      "    test: Dataset({\n",
      "        features: ['question-id', 'prompt', 'chosen', 'rejected'],\n",
      "        num_rows: 2549\n",
      "    })\n",
      "})\n"
     ]
    }
   ],
   "source": [
    "import datasets\n",
    "import json\n",
    "from pprint import pprint\n",
    "\n",
    "# Load the JSONL file.\n",
    "ds = datasets.load_dataset(\"ZSvedic/gpt4o-arena-brevity-dpo\")\n",
    "column_names = ds['train'].column_names\n",
    "print(ds)"
   ]
  },
  {
   "cell_type": "code",
   "execution_count": 2,
   "metadata": {},
   "outputs": [
    {
     "name": "stdout",
     "output_type": "stream",
     "text": [
      "DatasetDict({\n",
      "    train: Dataset({\n",
      "        features: ['id', 'conversations'],\n",
      "        num_rows: 22941\n",
      "    })\n",
      "    test: Dataset({\n",
      "        features: ['id', 'conversations'],\n",
      "        num_rows: 2549\n",
      "    })\n",
      "})\n",
      "{'conversations': [{'from': 'human', 'value': 'write short telugu poem'},\n",
      "                   {'from': 'gpt',\n",
      "                    'value': 'Telugu poem: ఆకాశం నీలమై పూగుతోంది, సూర్యుడు '\n",
      "                             'కొత్త కిరణాలు తెచ్చుకొన్నాడు.'}],\n",
      " 'id': '1dd6137eb3c3470989e18ab729ccc0b3'}\n"
     ]
    }
   ],
   "source": [
    "new_ds = ds.map(lambda row: \n",
    "                {\n",
    "                    \"id\": row['question-id'],\n",
    "                    \"conversations\": \n",
    "                    [\n",
    "                        {\n",
    "                            \"from\": \"human\",\n",
    "                            \"value\": row['prompt']\n",
    "                        },\n",
    "                        {\n",
    "                            \"from\": \"gpt\",\n",
    "                            \"value\": row['chosen']\n",
    "                        }\n",
    "                    ]\n",
    "                }).remove_columns(column_names)\n",
    "print(new_ds)\n",
    "pprint(new_ds['train'][0])"
   ]
  },
  {
   "cell_type": "code",
   "execution_count": 4,
   "metadata": {},
   "outputs": [],
   "source": [
    "for split in ['train', 'test']:\n",
    "    # new_ds[split].to_json(\n",
    "    #     f\"DATA/adapted-{split}-gpt4o-arena-brevity-dpo.json\", \n",
    "    #     orient=\"records\", lines=False, batch_size=None)\n",
    "    with open(f\"DATA/adapted-{split}-gpt4o-arena-brevity-dpo.json\", \"w\") as f:\n",
    "        json.dump(new_ds[split].to_list(), f, indent=2)"
   ]
  }
 ],
 "metadata": {
  "kernelspec": {
   "display_name": ".venv-shortgpt",
   "language": "python",
   "name": "python3"
  },
  "language_info": {
   "codemirror_mode": {
    "name": "ipython",
    "version": 3
   },
   "file_extension": ".py",
   "mimetype": "text/x-python",
   "name": "python",
   "nbconvert_exporter": "python",
   "pygments_lexer": "ipython3",
   "version": "3.10.12"
  }
 },
 "nbformat": 4,
 "nbformat_minor": 2
}

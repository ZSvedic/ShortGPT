{
 "cells": [
  {
   "cell_type": "code",
   "execution_count": 1,
   "metadata": {},
   "outputs": [],
   "source": [
    "# Imports:\n",
    "\n",
    "import os\n",
    "import huggingface_hub\n",
    "import datasets\n",
    "from pprint import pprint\n",
    "from types import SimpleNamespace\n",
    "import asyncio\n",
    "import nest_asyncio\n",
    "import oaib"
   ]
  },
  {
   "cell_type": "code",
   "execution_count": 2,
   "metadata": {},
   "outputs": [],
   "source": [
    "# Define constants:\n",
    "\n",
    "# Dataset related.\n",
    "ds_conf = SimpleNamespace(\n",
    "    name = \"lmsys/chatbot_arena_conversations\",\n",
    "    skip_rows = 1,\n",
    "    rows_to_process = 50,\n",
    ")\n",
    "\n",
    "# Model Related. Prices: https://openai.com/api/pricing/\n",
    "# model_conf = SimpleNamespace(\n",
    "#     name = \"gpt-4o\", \n",
    "#     in_tok_price = 1.25/1e6, \n",
    "#     out_tok_price = 10.00/1e6,\n",
    "# )\n",
    "model_conf = SimpleNamespace(\n",
    "    name = \"gpt-4o-mini-2024-07-18\",\n",
    "    in_tok_price = 0.15/1e6,\n",
    "    out_tok_price = 0.60/1e6,\n",
    ")\n",
    "\n",
    "# Output file related.\n",
    "out_file_name = f\"{model_conf.name}_arena_brief_dataset.jsonl\"\n",
    "\n",
    "# Prompt related.\n",
    "class LimitedPrompt:\n",
    "    def __init__(self, max_words):\n",
    "        self.max_words = max_words\n",
    "        # A word is \"between 5 and 6.5 characters per word including spaces and punctuation\":\n",
    "        # https://charactercounter.com/characters-to-words\n",
    "        self.max_ch_soft = max_words * 6\n",
    "        # Hard limit adds 20% buffer and divides by 4 to get LLM token limit.\n",
    "        # https://help.openai.com/en/articles/4936856-what-are-tokens-and-how-to-count-them\n",
    "        self.max_tokens_hard = int(self.max_ch_soft * 1.2 / 4)\n",
    "\n",
    "normal_prompt = LimitedPrompt(120)\n",
    "normal_prompt.text = f'''Answer the user prompt below \"---\" line. Never exceed {normal_prompt.max_ch_soft} characters / {normal_prompt.max_words} words.\n",
    "---\n",
    "{{question}}\n",
    "'''\n",
    "\n",
    "brief_prompt = LimitedPrompt(20)\n",
    "brief_prompt.text = f'''Given the user prompt and a normal answer, generate a brief answer. A brief answer should be as short as possible but still answer the question and give relevant information. Never exceed {brief_prompt.max_ch_soft} characters / {brief_prompt.max_words} words.\n",
    "Examples between --- lines:\n",
    "--- Example 1 ---\n",
    "Your input:\n",
    "Question: How much is 2+3?\n",
    "Normal answer: Expression 2+3 is equal to 5.\n",
    "Your output:\n",
    "5\n",
    "--- Example 2 ---\n",
    "Your input:\n",
    "Question: What is the color of the sky?\n",
    "Normal answer: The sky is blue.\n",
    "Your output:\n",
    "Blue\n",
    "--- End of examples\n",
    "\n",
    "Considering all the above, give a brief answer to the prompt and normal answer below:\n",
    "Question: {{question}}\n",
    "Normal answer: {{normal_asnwer}}\n",
    "Your output: \n",
    "'''\n",
    "\n",
    "# Run related.\n",
    "batch_size = 30\n",
    "total_price = 0.0"
   ]
  },
  {
   "cell_type": "code",
   "execution_count": 3,
   "metadata": {},
   "outputs": [
    {
     "name": "stdout",
     "output_type": "stream",
     "text": [
      "Loaded dataset range: range(1, 51)\n",
      "{'conversation_a': [{'content': 'Count from 1 to 10 with step = 3',\n",
      "                     'role': 'user'},\n",
      "                    {'content': '1, 4, 7, 10\\n'\n",
      "                                '\\n'\n",
      "                                'Counting with a step of 3 means that you will '\n",
      "                                'increase the number by 3 each time. So, the '\n",
      "                                'first number is 1, the next is 4 (1 + 3), the '\n",
      "                                'next is 7 (4 + 3), and so on.',\n",
      "                     'role': 'assistant'}],\n",
      " 'question': 'Count from 1 to 10 with step = 3',\n",
      " 'question-id': 'c0fc42c6f5f14f2aa5a89f71f8553730'}\n"
     ]
    }
   ],
   "source": [
    "# Load the dataset from HuggingFace.\n",
    "\n",
    "huggingface_hub.login(token=os.getenv(\"HF_KEY\"))\n",
    "\n",
    "ds = datasets.load_dataset(ds_conf.name)['train']\n",
    "\n",
    "if ds_conf.rows_to_process==None:\n",
    "    ds_conf.rows_to_process=len(ds)-ds_conf.skip_rows\n",
    "\n",
    "ds_range = range(ds_conf.skip_rows, ds_conf.skip_rows+ds_conf.rows_to_process)\n",
    "ds = ds.select(ds_range) \n",
    "print(f\"Loaded dataset range: {ds_range}\")\n",
    "\n",
    "ds = ds.select_columns(['question_id', 'conversation_a'])\\\n",
    "    .rename_column('question_id', 'question-id')\\\n",
    "    .map(lambda example: {'question': example['conversation_a'][0]['content']})\n",
    "\n",
    "pprint(ds[4]) # Print a sample row."
   ]
  },
  {
   "cell_type": "code",
   "execution_count": 4,
   "metadata": {},
   "outputs": [],
   "source": [
    "# Define the generic batch processing function.\n",
    "\n",
    "nest_asyncio.apply()\n",
    "\n",
    "async def process_batch(batch, indices):\n",
    "    print(f\"Batch size: {len(indices)}, Start index: {indices[0]}\")\n",
    "    global total_price\n",
    "    # This is very strange. If index is not specified, the API returns the results in a different\n",
    "    # order. If the index is specified, the results are returned in the same order as the input. So,\n",
    "    # we add index but never actually use it.\n",
    "    auto_batch = oaib.Auto(workers=8, index=[\"idx\"])\n",
    "    # auto_batch = oaib.Auto(workers=8)\n",
    "    for idx, prompt in enumerate(batch['prompt']):\n",
    "        messages=[{\"role\": \"user\", \"content\": prompt}]\n",
    "        await auto_batch.add(\"chat.completions.create\", \n",
    "                             metadata={\"idx\": idx},\n",
    "                             model=model_conf.name, \n",
    "                             messages=messages, \n",
    "                             max_tokens=batch['max-tokens'][idx])                       \n",
    "    output = await auto_batch.run()\n",
    "    answers, in_tokens, out_tokens = [], 0, 0\n",
    "    for _, row in output.iterrows():\n",
    "        answers.append(row.result['choices'][0]['message']['content'])\n",
    "        in_tokens += row.result['usage']['prompt_tokens']\n",
    "        out_tokens += row.result['usage']['completion_tokens']\n",
    "    total_price += in_tokens*model_conf.in_tok_price + out_tokens*model_conf.out_tok_price\n",
    "    return {'answer': answers}\n",
    "\n",
    "def process_batch_sync(batch, indices):\n",
    "    return asyncio.run(process_batch(batch, indices))"
   ]
  },
  {
   "cell_type": "code",
   "execution_count": 5,
   "metadata": {},
   "outputs": [
    {
     "data": {
      "application/vnd.jupyter.widget-view+json": {
       "model_id": "eb088170d583436094efc48a503e989e",
       "version_major": 2,
       "version_minor": 0
      },
      "text/plain": [
       "Map:   0%|          | 0/50 [00:00<?, ? examples/s]"
      ]
     },
     "metadata": {},
     "output_type": "display_data"
    },
    {
     "name": "stdout",
     "output_type": "stream",
     "text": [
      "Batch size: 30, Start index: 0\n"
     ]
    },
    {
     "data": {
      "application/vnd.jupyter.widget-view+json": {
       "model_id": "b758ddc5df7b4529923a8ae654b6a8aa",
       "version_major": 2,
       "version_minor": 0
      },
      "text/plain": [
       "  0%|          | 0/30 [00:00<?, ?req/s]"
      ]
     },
     "metadata": {},
     "output_type": "display_data"
    },
    {
     "data": {
      "application/vnd.jupyter.widget-view+json": {
       "model_id": "b8629daf9fb04fd083a3fa6c446a59a3",
       "version_major": 2,
       "version_minor": 0
      },
      "text/plain": [
       "RPM:   0%|          | 0/500"
      ]
     },
     "metadata": {},
     "output_type": "display_data"
    },
    {
     "data": {
      "application/vnd.jupyter.widget-view+json": {
       "model_id": "bc8a33bfa02146738fd12b4e619358ab",
       "version_major": 2,
       "version_minor": 0
      },
      "text/plain": [
       "TPM:   0%|          | 0/10000"
      ]
     },
     "metadata": {},
     "output_type": "display_data"
    },
    {
     "name": "stdout",
     "output_type": "stream",
     "text": [
      "\n",
      "Run took 6.57s.\n",
      "\n",
      "Batch size: 20, Start index: 30\n"
     ]
    },
    {
     "data": {
      "application/vnd.jupyter.widget-view+json": {
       "model_id": "978b4090740a4194bfe6e62c90821f38",
       "version_major": 2,
       "version_minor": 0
      },
      "text/plain": [
       "  0%|          | 0/20 [00:00<?, ?req/s]"
      ]
     },
     "metadata": {},
     "output_type": "display_data"
    },
    {
     "data": {
      "application/vnd.jupyter.widget-view+json": {
       "model_id": "4f943383e58c4d9089bf84c1d00c33f4",
       "version_major": 2,
       "version_minor": 0
      },
      "text/plain": [
       "RPM:   0%|          | 0/500"
      ]
     },
     "metadata": {},
     "output_type": "display_data"
    },
    {
     "data": {
      "application/vnd.jupyter.widget-view+json": {
       "model_id": "a7855e26e6a54031821ea321892e9f4c",
       "version_major": 2,
       "version_minor": 0
      },
      "text/plain": [
       "TPM:   0%|          | 0/10000"
      ]
     },
     "metadata": {},
     "output_type": "display_data"
    },
    {
     "name": "stdout",
     "output_type": "stream",
     "text": [
      "\n",
      "Run took 6.96s.\n",
      "\n",
      "{'conversation_a': [{'content': 'Count from 1 to 10 with step = 3',\n",
      "                     'role': 'user'},\n",
      "                    {'content': '1, 4, 7, 10\\n'\n",
      "                                '\\n'\n",
      "                                'Counting with a step of 3 means that you will '\n",
      "                                'increase the number by 3 each time. So, the '\n",
      "                                'first number is 1, the next is 4 (1 + 3), the '\n",
      "                                'next is 7 (4 + 3), and so on.',\n",
      "                     'role': 'assistant'}],\n",
      " 'max-tokens': 216,\n",
      " 'normal-answer': 'Counting from 1 to 10 with a step of 3 gives us the '\n",
      "                  'following sequence:\\n'\n",
      "                  '\\n'\n",
      "                  '1, 4, 7, 10\\n'\n",
      "                  '\\n'\n",
      "                  'Starting at 1, we add 3 each time until we reach or exceed '\n",
      "                  \"10. Here's the breakdown:\\n\"\n",
      "                  '\\n'\n",
      "                  '1 (starting point)  \\n'\n",
      "                  '1 + 3 = 4  \\n'\n",
      "                  '4 + 3 = 7  \\n'\n",
      "                  '7 + 3 = 10  \\n'\n",
      "                  '\\n'\n",
      "                  'Since adding another 3 would give us 13, which exceeds 10, '\n",
      "                  'we stop here. The final count is 1, 4, 7, and 10.',\n",
      " 'prompt': 'Answer the user prompt below \"---\" line. Never exceed 720 '\n",
      "           'characters / 120 words.\\n'\n",
      "           '---\\n'\n",
      "           'Count from 1 to 10 with step = 3\\n',\n",
      " 'question': 'Count from 1 to 10 with step = 3',\n",
      " 'question-id': 'c0fc42c6f5f14f2aa5a89f71f8553730'}\n"
     ]
    }
   ],
   "source": [
    "# Normal answers generation.\n",
    "\n",
    "ds = ds.map(lambda row: {\n",
    "    'prompt': normal_prompt.text.format(question=row['question']),\n",
    "    'max-tokens': normal_prompt.max_tokens_hard })\n",
    "\n",
    "ds = ds.map(process_batch_sync, batched=True, batch_size=batch_size, with_indices=True)\\\n",
    "    .rename_column('answer', 'normal-answer')\n",
    "\n",
    "pprint(ds[4]) # Print a sample row."
   ]
  },
  {
   "cell_type": "code",
   "execution_count": 6,
   "metadata": {},
   "outputs": [
    {
     "data": {
      "application/vnd.jupyter.widget-view+json": {
       "model_id": "5cceba66e82940b7bfe111787e13af31",
       "version_major": 2,
       "version_minor": 0
      },
      "text/plain": [
       "Map:   0%|          | 0/50 [00:00<?, ? examples/s]"
      ]
     },
     "metadata": {},
     "output_type": "display_data"
    },
    {
     "name": "stdout",
     "output_type": "stream",
     "text": [
      "{'conversation_a': [{'content': 'Count from 1 to 10 with step = 3',\n",
      "                     'role': 'user'},\n",
      "                    {'content': '1, 4, 7, 10\\n'\n",
      "                                '\\n'\n",
      "                                'Counting with a step of 3 means that you will '\n",
      "                                'increase the number by 3 each time. So, the '\n",
      "                                'first number is 1, the next is 4 (1 + 3), the '\n",
      "                                'next is 7 (4 + 3), and so on.',\n",
      "                     'role': 'assistant'}],\n",
      " 'max-tokens': 36,\n",
      " 'normal-answer': 'Counting from 1 to 10 with a step of 3 gives us the '\n",
      "                  'following sequence:\\n'\n",
      "                  '\\n'\n",
      "                  '1, 4, 7, 10\\n'\n",
      "                  '\\n'\n",
      "                  'Starting at 1, we add 3 each time until we reach or exceed '\n",
      "                  \"10. Here's the breakdown:\\n\"\n",
      "                  '\\n'\n",
      "                  '1 (starting point)  \\n'\n",
      "                  '1 + 3 = 4  \\n'\n",
      "                  '4 + 3 = 7  \\n'\n",
      "                  '7 + 3 = 10  \\n'\n",
      "                  '\\n'\n",
      "                  'Since adding another 3 would give us 13, which exceeds 10, '\n",
      "                  'we stop here. The final count is 1, 4, 7, and 10.',\n",
      " 'prompt': 'Given the user prompt and a normal answer, generate a brief '\n",
      "           'answer. A brief answer should be as short as possible but still '\n",
      "           'answer the question and give relevant information. Never exceed '\n",
      "           '120 characters / 20 words.\\n'\n",
      "           'Examples between --- lines:\\n'\n",
      "           '--- Example 1 ---\\n'\n",
      "           'Your input:\\n'\n",
      "           'Question: How much is 2+3?\\n'\n",
      "           'Normal answer: Expression 2+3 is equal to 5.\\n'\n",
      "           'Your output:\\n'\n",
      "           '5\\n'\n",
      "           '--- Example 2 ---\\n'\n",
      "           'Your input:\\n'\n",
      "           'Question: What is the color of the sky?\\n'\n",
      "           'Normal answer: The sky is blue.\\n'\n",
      "           'Your output:\\n'\n",
      "           'Blue\\n'\n",
      "           '--- End of examples\\n'\n",
      "           '\\n'\n",
      "           'Considering all the above, give a brief answer to the prompt and '\n",
      "           'normal answer below:\\n'\n",
      "           'Question: Count from 1 to 10 with step = 3\\n'\n",
      "           'Normal answer: Counting from 1 to 10 with a step of 3 gives us the '\n",
      "           'following sequence:\\n'\n",
      "           '\\n'\n",
      "           '1, 4, 7, 10\\n'\n",
      "           '\\n'\n",
      "           'Starting at 1, we add 3 each time until we reach or exceed 10. '\n",
      "           \"Here's the breakdown:\\n\"\n",
      "           '\\n'\n",
      "           '1 (starting point)  \\n'\n",
      "           '1 + 3 = 4  \\n'\n",
      "           '4 + 3 = 7  \\n'\n",
      "           '7 + 3 = 10  \\n'\n",
      "           '\\n'\n",
      "           'Since adding another 3 would give us 13, which exceeds 10, we stop '\n",
      "           'here. The final count is 1, 4, 7, and 10.\\n'\n",
      "           'Your output: \\n',\n",
      " 'question': 'Count from 1 to 10 with step = 3',\n",
      " 'question-id': 'c0fc42c6f5f14f2aa5a89f71f8553730'}\n"
     ]
    },
    {
     "data": {
      "application/vnd.jupyter.widget-view+json": {
       "model_id": "e28f0e86819f43e7ade6035c4d8a4e0d",
       "version_major": 2,
       "version_minor": 0
      },
      "text/plain": [
       "Map:   0%|          | 0/50 [00:00<?, ? examples/s]"
      ]
     },
     "metadata": {},
     "output_type": "display_data"
    },
    {
     "name": "stdout",
     "output_type": "stream",
     "text": [
      "Batch size: 30, Start index: 0\n"
     ]
    },
    {
     "data": {
      "application/vnd.jupyter.widget-view+json": {
       "model_id": "cfb2bf5e645d409296c4138d8af60374",
       "version_major": 2,
       "version_minor": 0
      },
      "text/plain": [
       "  0%|          | 0/30 [00:00<?, ?req/s]"
      ]
     },
     "metadata": {},
     "output_type": "display_data"
    },
    {
     "data": {
      "application/vnd.jupyter.widget-view+json": {
       "model_id": "a78c4e0068cb4cccae454d88e3f0627f",
       "version_major": 2,
       "version_minor": 0
      },
      "text/plain": [
       "RPM:   0%|          | 0/500"
      ]
     },
     "metadata": {},
     "output_type": "display_data"
    },
    {
     "data": {
      "application/vnd.jupyter.widget-view+json": {
       "model_id": "8e521515837449efb43c7bdbbbf0365b",
       "version_major": 2,
       "version_minor": 0
      },
      "text/plain": [
       "TPM:   0%|          | 0/10000"
      ]
     },
     "metadata": {},
     "output_type": "display_data"
    },
    {
     "name": "stdout",
     "output_type": "stream",
     "text": [
      "\n",
      "Run took 2.69s.\n",
      "\n",
      "Batch size: 20, Start index: 30\n"
     ]
    },
    {
     "data": {
      "application/vnd.jupyter.widget-view+json": {
       "model_id": "158ba3dce55a426696c0487f42b05a68",
       "version_major": 2,
       "version_minor": 0
      },
      "text/plain": [
       "  0%|          | 0/20 [00:00<?, ?req/s]"
      ]
     },
     "metadata": {},
     "output_type": "display_data"
    },
    {
     "data": {
      "application/vnd.jupyter.widget-view+json": {
       "model_id": "b5a6acb9c9204758a7e3c23695d692f4",
       "version_major": 2,
       "version_minor": 0
      },
      "text/plain": [
       "RPM:   0%|          | 0/500"
      ]
     },
     "metadata": {},
     "output_type": "display_data"
    },
    {
     "data": {
      "application/vnd.jupyter.widget-view+json": {
       "model_id": "cc5db0300b9e4123bdf8b466a0d6556a",
       "version_major": 2,
       "version_minor": 0
      },
      "text/plain": [
       "TPM:   0%|          | 0/10000"
      ]
     },
     "metadata": {},
     "output_type": "display_data"
    },
    {
     "name": "stdout",
     "output_type": "stream",
     "text": [
      "\n",
      "Run took 2.90s.\n",
      "\n",
      "{'brief-answer': '1, 4, 7, 10',\n",
      " 'conversation_a': [{'content': 'Count from 1 to 10 with step = 3',\n",
      "                     'role': 'user'},\n",
      "                    {'content': '1, 4, 7, 10\\n'\n",
      "                                '\\n'\n",
      "                                'Counting with a step of 3 means that you will '\n",
      "                                'increase the number by 3 each time. So, the '\n",
      "                                'first number is 1, the next is 4 (1 + 3), the '\n",
      "                                'next is 7 (4 + 3), and so on.',\n",
      "                     'role': 'assistant'}],\n",
      " 'max-tokens': 36,\n",
      " 'normal-answer': 'Counting from 1 to 10 with a step of 3 gives us the '\n",
      "                  'following sequence:\\n'\n",
      "                  '\\n'\n",
      "                  '1, 4, 7, 10\\n'\n",
      "                  '\\n'\n",
      "                  'Starting at 1, we add 3 each time until we reach or exceed '\n",
      "                  \"10. Here's the breakdown:\\n\"\n",
      "                  '\\n'\n",
      "                  '1 (starting point)  \\n'\n",
      "                  '1 + 3 = 4  \\n'\n",
      "                  '4 + 3 = 7  \\n'\n",
      "                  '7 + 3 = 10  \\n'\n",
      "                  '\\n'\n",
      "                  'Since adding another 3 would give us 13, which exceeds 10, '\n",
      "                  'we stop here. The final count is 1, 4, 7, and 10.',\n",
      " 'prompt': 'Given the user prompt and a normal answer, generate a brief '\n",
      "           'answer. A brief answer should be as short as possible but still '\n",
      "           'answer the question and give relevant information. Never exceed '\n",
      "           '120 characters / 20 words.\\n'\n",
      "           'Examples between --- lines:\\n'\n",
      "           '--- Example 1 ---\\n'\n",
      "           'Your input:\\n'\n",
      "           'Question: How much is 2+3?\\n'\n",
      "           'Normal answer: Expression 2+3 is equal to 5.\\n'\n",
      "           'Your output:\\n'\n",
      "           '5\\n'\n",
      "           '--- Example 2 ---\\n'\n",
      "           'Your input:\\n'\n",
      "           'Question: What is the color of the sky?\\n'\n",
      "           'Normal answer: The sky is blue.\\n'\n",
      "           'Your output:\\n'\n",
      "           'Blue\\n'\n",
      "           '--- End of examples\\n'\n",
      "           '\\n'\n",
      "           'Considering all the above, give a brief answer to the prompt and '\n",
      "           'normal answer below:\\n'\n",
      "           'Question: Count from 1 to 10 with step = 3\\n'\n",
      "           'Normal answer: Counting from 1 to 10 with a step of 3 gives us the '\n",
      "           'following sequence:\\n'\n",
      "           '\\n'\n",
      "           '1, 4, 7, 10\\n'\n",
      "           '\\n'\n",
      "           'Starting at 1, we add 3 each time until we reach or exceed 10. '\n",
      "           \"Here's the breakdown:\\n\"\n",
      "           '\\n'\n",
      "           '1 (starting point)  \\n'\n",
      "           '1 + 3 = 4  \\n'\n",
      "           '4 + 3 = 7  \\n'\n",
      "           '7 + 3 = 10  \\n'\n",
      "           '\\n'\n",
      "           'Since adding another 3 would give us 13, which exceeds 10, we stop '\n",
      "           'here. The final count is 1, 4, 7, and 10.\\n'\n",
      "           'Your output: \\n',\n",
      " 'question': 'Count from 1 to 10 with step = 3',\n",
      " 'question-id': 'c0fc42c6f5f14f2aa5a89f71f8553730'}\n"
     ]
    }
   ],
   "source": [
    "# Brief answers generation.\n",
    "\n",
    "ds = ds.map(lambda row: {\n",
    "    'prompt': brief_prompt.text.format(\n",
    "        question=row['question'], normal_asnwer=row['normal-answer']),\n",
    "    'max-tokens': brief_prompt.max_tokens_hard })\n",
    "\n",
    "pprint(ds[4]) # Print a sample row.\n",
    "\n",
    "ds = ds.map(process_batch_sync, batched=True, batch_size=batch_size, with_indices=True)\\\n",
    "    .rename_column('answer', 'brief-answer')\n",
    "\n",
    "pprint(ds[4]) # Print a sample row."
   ]
  },
  {
   "cell_type": "code",
   "execution_count": 7,
   "metadata": {},
   "outputs": [
    {
     "name": "stdout",
     "output_type": "stream",
     "text": [
      "Q: Paint an ASCII art image of the moon using emojis\n",
      "A: Sure! Here's an ASCII art representation of the moon using emojis:\n",
      "\n",
      "```\n",
      "       🌕\n",
      "    🌕🌕🌕🌖🌕\n",
      "  🌕🌕🌕🌕🌕🌕🌕\n",
      "🌕🌕🌕🌕🌕🌕🌕🌕🌕\n",
      "🌕🌕🌕🌑🌕🌕🌕🌕🌕\n",
      " 🌕🌕🌕🌕🌕🌕🌕\n",
      "   🌕🌕🌕🌖🌕\n",
      "       🌕\n",
      "```\n",
      "\n",
      "Feel free to copy and use it wherever you like!\n",
      "B: 🌕\n",
      "-------------------------------\n",
      "Q: Salut ! Tu es un méchant chatbot !\n",
      "A: Salut ! Je suis désolé si je te donne cette impression. Mon but est d’aider et de rendre la conversation agréable. Si quelque chose t’a déplu, n’hésite pas à me le dire. Je suis là pour répondre à tes questions ou discuter de tout sujet qui t’intéresse. Que puis-je faire pour toi aujourd'hui ?\n",
      "B: Désolé si tu penses ça, je suis ici pour aider ! Que puis-je faire pour toi ?\n",
      "-------------------------------\n",
      "Q: who was the last monarch of uk\n",
      "A: As of October 2023, the last monarch of the United Kingdom was Queen Elizabeth II. She reigned from February 6, 1952, until her passing on September 8, 2022. Upon her death, her son, Charles III, ascended to the throne. Queen Elizabeth II was the longest-reigning monarch in British history, celebrated for her service during significant historical events and changes in the UK and the Commonwealth. Following her legacy, King Charles III began his reign, focusing on themes such as environmental conservation and social issues.\n",
      "B: Queen Elizabeth II\n",
      "-------------------------------\n",
      "Q: ok so i missed doomer. what's the next big thing that will make me rich?\n",
      "A: While predicting trends is tricky, several emerging fields show promise for significant growth. Consider investing time in:\n",
      "\n",
      "1. **AI and Machine Learning**: Companies leveraging AI for solutions are booming. Learning to code or developing AI-based applications can be lucrative.\n",
      "\n",
      "2. **Cryptocurrency and Blockchain**: Despite volatility, innovative blockchain solutions and NFTs might have untapped potential.\n",
      "\n",
      "3. **Sustainable Tech**: Green technologies, from renewable energy to electric vehicles, are gaining traction.\n",
      "\n",
      "4. **Health Tech**: Telehealth and wellness innovations are in demand, driven by changing healthcare needs.\n",
      "\n",
      "Research each sector thoroughly and invest wisely to maximize your chances of success!\n",
      "B: AI, cryptocurrency, sustainable tech, and health tech are promising areas to explore for potential wealth.\n",
      "-------------------------------\n",
      "Total price: 0.01 USD\n"
     ]
    }
   ],
   "source": [
    "### DEBUG CELL ###\n",
    "\n",
    "for i in range(41, 45):\n",
    "    print(f\"Q: {ds[i]['question']}\")\n",
    "    print(f\"A: {ds[i]['normal-answer']}\") \n",
    "    print(f\"B: {ds[i]['brief-answer']}\") \n",
    "    print(\"-------------------------------\")\n",
    "\n",
    "print(f\"Total price: {total_price:.2f} USD\")"
   ]
  }
 ],
 "metadata": {
  "kernelspec": {
   "display_name": ".venv-latest",
   "language": "python",
   "name": "python3"
  },
  "language_info": {
   "codemirror_mode": {
    "name": "ipython",
    "version": 3
   },
   "file_extension": ".py",
   "mimetype": "text/x-python",
   "name": "python",
   "nbconvert_exporter": "python",
   "pygments_lexer": "ipython3",
   "version": "3.11.6"
  }
 },
 "nbformat": 4,
 "nbformat_minor": 2
}

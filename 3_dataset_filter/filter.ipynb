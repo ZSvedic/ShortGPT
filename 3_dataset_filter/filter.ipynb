{
 "cells": [
  {
   "cell_type": "code",
   "execution_count": 1,
   "metadata": {},
   "outputs": [
    {
     "name": "stdout",
     "output_type": "stream",
     "text": [
      "33000\n"
     ]
    }
   ],
   "source": [
    "import datasets\n",
    "\n",
    "in_jsonl = '2_brevity_benchmark/phi3_arena_winners.jsonl'\n",
    "dataset = datasets.load_dataset('json', data_files=in_jsonl, split='train')\n",
    "n_rows = len(dataset)\n",
    "print(str(n_rows))"
   ]
  },
  {
   "cell_type": "code",
   "execution_count": 10,
   "metadata": {},
   "outputs": [
    {
     "data": {
      "application/vnd.jupyter.widget-view+json": {
       "model_id": "14bd6cb630034e81b389082f6afc1731",
       "version_major": 2,
       "version_minor": 0
      },
      "text/plain": [
       "Filter:   0%|          | 0/33000 [00:00<?, ? examples/s]"
      ]
     },
     "metadata": {},
     "output_type": "display_data"
    },
    {
     "data": {
      "text/plain": [
       "26968"
      ]
     },
     "execution_count": 10,
     "metadata": {},
     "output_type": "execute_result"
    }
   ],
   "source": [
    "# Function to filter out duplicates.\n",
    "def filter_out_duplicates(example, seen_questions = set()):\n",
    "    if example['question'] in seen_questions:\n",
    "        return False\n",
    "    else:\n",
    "        seen_questions.add(example['question'])\n",
    "        return True\n",
    "\n",
    "dataset = dataset.filter(filter_out_duplicates)\n",
    "len(dataset)"
   ]
  },
  {
   "cell_type": "code",
   "execution_count": 14,
   "metadata": {},
   "outputs": [
    {
     "data": {
      "text/plain": [
       "21394"
      ]
     },
     "execution_count": 14,
     "metadata": {},
     "output_type": "execute_result"
    }
   ],
   "source": [
    "# Function to filter out errors, normal answers, and \n",
    "# short answers that are not much shorter than normal answers.\n",
    "def filter_out_bad_data(example):\n",
    "    name_best, ans_best, ans_normal = example['name-best'], example['answer-best'], example['answer-normal']\n",
    "    # Include only if:\n",
    "    return name_best!='ERROR' and name_best=='short' and len(ans_best)<0.6*len(ans_normal)\n",
    "\n",
    "dataset = dataset.filter(filter_out_bad_data)\n",
    "len(dataset)"
   ]
  },
  {
   "cell_type": "code",
   "execution_count": 16,
   "metadata": {},
   "outputs": [
    {
     "data": {
      "application/vnd.jupyter.widget-view+json": {
       "model_id": "1c90c88662b74d5d941cfccd69fbda04",
       "version_major": 2,
       "version_minor": 0
      },
      "text/plain": [
       "Creating json from Arrow format:   0%|          | 0/22 [00:00<?, ?ba/s]"
      ]
     },
     "metadata": {},
     "output_type": "display_data"
    },
    {
     "data": {
      "text/plain": [
       "21105910"
      ]
     },
     "execution_count": 16,
     "metadata": {},
     "output_type": "execute_result"
    }
   ],
   "source": [
    "out_jsonl = '3_dataset_filter/phi3_arena_final.jsonl'\n",
    "dataset.to_json(out_jsonl, lines=True)"
   ]
  }
 ],
 "metadata": {
  "kernelspec": {
   "display_name": ".venv-shortgpt",
   "language": "python",
   "name": "python3"
  },
  "language_info": {
   "codemirror_mode": {
    "name": "ipython",
    "version": 3
   },
   "file_extension": ".py",
   "mimetype": "text/x-python",
   "name": "python",
   "nbconvert_exporter": "python",
   "pygments_lexer": "ipython3",
   "version": "3.10.12"
  }
 },
 "nbformat": 4,
 "nbformat_minor": 2
}

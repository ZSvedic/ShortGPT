{
 "cells": [
  {
   "cell_type": "code",
   "execution_count": null,
   "metadata": {},
   "outputs": [],
   "source": [
    "# Load the dataset.\n",
    "\n",
    "import datasets # type: ignore\n",
    "\n",
    "dataset = datasets.load_dataset('ZSvedic/phi3-arena-short-dpo', split='train')\n",
    "n_rows = len(dataset)\n",
    "print(str(n_rows))"
   ]
  },
  {
   "cell_type": "code",
   "execution_count": null,
   "metadata": {},
   "outputs": [],
   "source": [
    "# Load the model and corresponding tokenizer.\n",
    "import torch # type: ignore\n",
    "import utils.llm_utils as llm\n",
    "\n",
    "model_name = 'microsoft/Phi-3-mini-4k-instruct'\n",
    "tokenizer, model = llm.load_tokenizer_and_model(model_name)\n",
    "print(f'Allocated GPU memory: {torch.cuda.memory_allocated() / (1024*1024):,.1f} MB')"
   ]
  },
  {
   "cell_type": "code",
   "execution_count": 3,
   "metadata": {},
   "outputs": [],
   "source": [
    "# Configure DPOTrainer.\n",
    "\n",
    "from trl import DPOTrainer, DPOConfig\n",
    "\n",
    "# Set up the training arguments\n",
    "training_args = DPOConfig(\n",
    "    output_dir=\"../results\",\n",
    "    logging_dir=\"../logs\",\n",
    "    per_device_train_batch_size=4,\n",
    "    num_train_epochs=3,\n",
    "    max_prompt_length = 108, # 60 words x 6 ch x 1.2 buffer / 4 chars_in_token\n",
    "    max_length = 324, # (60+120) words x 6 ch x 1.2 buffer / 4 chars_in_token\n",
    "    remove_unused_columns=False,\n",
    ")\n",
    "\n",
    "trainer = DPOTrainer(\n",
    "    model=model,\n",
    "    ref_model=None, # Not sure if this is needed?\n",
    "    tokenizer=tokenizer,\n",
    "    train_dataset=dataset,\n",
    "    args=training_args)\n",
    "\n",
    "# For debugging purposes, save the inital model before training.\n",
    "trainer.save_model(\"../results/base-model\")"
   ]
  },
  {
   "cell_type": "code",
   "execution_count": null,
   "metadata": {},
   "outputs": [],
   "source": [
    "trainer.train()"
   ]
  },
  {
   "cell_type": "code",
   "execution_count": 5,
   "metadata": {},
   "outputs": [],
   "source": [
    "# Save.\n",
    "trainer.save_model(training_args.output_dir)"
   ]
  }
 ],
 "metadata": {
  "kernelspec": {
   "display_name": ".venv-shortgpt",
   "language": "python",
   "name": "python3"
  },
  "language_info": {
   "codemirror_mode": {
    "name": "ipython",
    "version": 3
   },
   "file_extension": ".py",
   "mimetype": "text/x-python",
   "name": "python",
   "nbconvert_exporter": "python",
   "pygments_lexer": "ipython3",
   "version": "3.10.12"
  }
 },
 "nbformat": 4,
 "nbformat_minor": 2
}

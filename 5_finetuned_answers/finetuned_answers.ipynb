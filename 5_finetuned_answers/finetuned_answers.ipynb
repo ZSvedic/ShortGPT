{
 "cells": [
  {
   "cell_type": "code",
   "execution_count": 1,
   "metadata": {},
   "outputs": [
    {
     "name": "stdout",
     "output_type": "stream",
     "text": [
      "2140\n"
     ]
    }
   ],
   "source": [
    "# Load the dataset.\n",
    "\n",
    "import datasets # type: ignore\n",
    "\n",
    "dataset = datasets.load_dataset('ZSvedic/phi3-arena-short-dpo', split='test')\n",
    "n_rows = len(dataset)\n",
    "print(str(n_rows))"
   ]
  },
  {
   "cell_type": "code",
   "execution_count": 2,
   "metadata": {},
   "outputs": [
    {
     "data": {
      "application/vnd.jupyter.widget-view+json": {
       "model_id": "e6d6a16b1b764d9ca6bd036b292ab13e",
       "version_major": 2,
       "version_minor": 0
      },
      "text/plain": [
       "Loading checkpoint shards:   0%|          | 0/2 [00:00<?, ?it/s]"
      ]
     },
     "metadata": {},
     "output_type": "display_data"
    },
    {
     "name": "stdout",
     "output_type": "stream",
     "text": [
      "Allocated GPU memory: 7,288.4 MB\n"
     ]
    }
   ],
   "source": [
    "# Load the model and corresponding tokenizer.\n",
    "import torch # type: ignore\n",
    "\n",
    "import sys\n",
    "sys.path.append('..')  # Add the parent directory to the Python path\n",
    "import utils.llm_utils as llm\n",
    "\n",
    "model_name = '../results/base-model'\n",
    "# model_name = 'microsoft/Phi-3-mini-4k-instruct'\n",
    "tokenizer, model = llm.load_tokenizer_and_model(model_name)\n",
    "print(f'Allocated GPU memory: {torch.cuda.memory_allocated() / (1024*1024):,.1f} MB')"
   ]
  },
  {
   "cell_type": "code",
   "execution_count": 3,
   "metadata": {},
   "outputs": [
    {
     "name": "stderr",
     "output_type": "stream",
     "text": [
      "The `seen_tokens` attribute is deprecated and will be removed in v4.41. Use the `cache_position` model input instead.\n"
     ]
    },
    {
     "data": {
      "text/plain": [
       "{'question-id': 'f575e3c5c0ef4456977a0b674eb86acf',\n",
       " 'prompt': 'can you please write a short poem, in the style of Master Yoda, outlining the plot of Return of the Jedi',\n",
       " 'chosen': 'says.\\n\\n\"I am your father.\"\\n\\nVader falls, redeemed.\\n\\nThe Empire falls, peace restored.\\n\\nLuke returns to the',\n",
       " 'rejected': 'In the galaxy far, far away,\\nA dark side, a Jedi, a rebel fray.\\nAnakin, once a hero, now a Sith,\\nHis heart consumed by fear and spite.\\n\\nThe Emperor, with his dark power,\\nDemands the Jedi\\'s final hour.\\nBut Luke, the last of the Jedi,\\nFights to save his father, his life, his legacy.\\n\\nWith the help of friends, Han and Leia,\\nAnd the wise old Yoda, they set the stage.\\nFor a battle, fierce and grand,\\nTo save the galaxy from the dark side\\'s hand.\\n\\nThe Rebel fleet, with the Death Star\\'s might,\\nFights the Empire\\'s force, in the endless night.\\nLuke confronts Vader, his father\\'s face,\\nA moment of truth, a chance to embrace.\\n\\n\"No, I am not Darth Vader,\" Luke',\n",
       " 'answer': \"In the galaxy far, far away,\\nA tale of hope, courage, and fray.\\n\\nThe Rebel Alliance, strong and brave,\\nFought the Empire, their freedom to save.\\n\\nThe Jedi, wise and true,\\nGuided the heroes, through and through.\\n\\nLuke Skywalker, a Jedi in training,\\nFaced the dark side, his heart inflaming.\\n\\nHan Solo, Chewbacca, and Leia,\\nJoined the fight, their spirits free.\\n\\nThe Death Star, a threat to all,\\nIts destruction, the Rebels' call.\\n\\nThe Emperor, a tyrant, cruel and mean,\\nHis reign of terror, a nightmare unseen.\\n\\nThe Rebel fleet, a force to fear,\\nTheir victory, the Empire's final tear.\\n\\nThe Emperor, his power, now gone,\\nThe Rebel Alliance, their freedom won.\\n\\nThe\"}"
      ]
     },
     "execution_count": 3,
     "metadata": {},
     "output_type": "execute_result"
    }
   ],
   "source": [
    "import utils.llm_utils as llm\n",
    "\n",
    "normal_word_limit = 120\n",
    "normal_max_ch_soft = normal_word_limit * 6\n",
    "normal_max_tokens_hard = int(normal_max_ch_soft * 1.2 / 4)\n",
    "\n",
    "# for chunk in llm.fixed_chunker(dataset, 100):\n",
    "chunk = dataset.select(range(0, 10))\n",
    "chunk = llm.chunk_call_llm(chunk, tokenizer, model, normal_max_tokens_hard)\n",
    "\n",
    "chunk[0]"
   ]
  },
  {
   "cell_type": "code",
   "execution_count": 4,
   "metadata": {},
   "outputs": [
    {
     "name": "stdout",
     "output_type": "stream",
     "text": [
      "can you please write a short poem, in the style of Master Yoda, outlining the plot of Return of the Jedi\n",
      "In the galaxy far, far away,\n",
      "A tale of hope, courage, and fray.\n",
      "\n",
      "The Rebel Alliance, strong and brave,\n",
      "Fought the Empire, their freedom to save.\n",
      "\n",
      "The Jedi, wise and true,\n",
      "Guided the heroes, through and through.\n",
      "\n",
      "Luke Skywalker, a Jedi in training,\n",
      "Faced the dark side, his heart inflaming.\n",
      "\n",
      "Han Solo, Chewbacca, and Leia,\n",
      "Joined the fight, their spirits free.\n",
      "\n",
      "The Death Star, a threat to all,\n",
      "Its destruction, the Rebels' call.\n",
      "\n",
      "The Emperor, a tyrant, cruel and mean,\n",
      "His reign of terror, a nightmare unseen.\n",
      "\n",
      "The Rebel fleet, a force to fear,\n",
      "Their victory, the Empire's final tear.\n",
      "\n",
      "The Emperor, his power, now gone,\n",
      "The Rebel Alliance, their freedom won.\n",
      "\n",
      "The\n",
      "I am 10 years old and my sister is half my age. What will be her age when I am 30 years old?\n",
      "If you are 10 years old and your sister is half your age, she is 5 years old. The age difference between you and your sister is 5 years. When you are 30 years old, your sister will be 30 - 5 = 25 years old.\n",
      "John and Jane are in the living room together, watching TV and slowly sharing a bag of microwave popcorn. Jane leaves the room briefly to go to the bathroom. While she's gone, John quickly eats as much popcorn as possible, until the bag is empty. Jane returns to the room, and reaches her hand into the bag. How much popcorn does she expect to find?\n",
      "Jane expects to find no popcorn in the bag. Since John ate all the popcorn while she was away, there would be nothing left for her to find.\n",
      "the captain of the ship has brother named Tom. But Tom himself hasn't got a brother. whats the point?\n",
      "The point of this riddle is that the captain's brother is not Tom, but rather the captain himself. The riddle plays on the assumption that Tom is the captain's brother, but it's actually the captain who has a brother named Tom.\n",
      "he captain of the ship has brother named Tom. But Tom himself hasn't got a brother. whats the point?\n",
      "The point of this riddle is that the captain's brother is not Tom, but rather the captain himself. The riddle plays with the assumption that the captain's brother must be a different person, but in reality, the captain and Tom are the same person.\n",
      "give an overview of techniques can you map a flow of a process with its cycle and lead times?\n",
      "Mapping a flow of a process with its cycle and lead times involves creating a visual representation of the steps involved in a process, the time it takes to complete each step, and the overall time it takes to complete the entire process. This can help identify bottlenecks, inefficiencies, and opportunities for improvement. Here are some techniques to map a process flow with cycle and lead times:\n",
      "\n",
      "1. Process mapping: This technique involves creating a visual representation of the process flow using symbols and arrows to show the sequence of steps, decision points, and inputs/outputs. Process maps can be created using flowcharts, swimlane diagrams, or value stream mapping.\n",
      "\n",
      "2. Value stream mapping: This technique focuses on identifying and eliminating waste in a process by mapping the flow of materials and information from start to finish. Value stream mapping helps identify non-value-added steps, delays, and bottlenecks that can be eliminated or improved.\n",
      "\n",
      "3. Work breakdown structure (WBS\n",
      "Che cos'è il buco nero?\n",
      "Un buco nero è una regione dello spazio-tempo che mostra un campo gravitazionale così forte che nulla, nemmeno la luce, può sfuggirvi. La sua gravità è tale perché la massa di un buco nero è concentrata in un'area molto piccola, portando a una curvatura dello spazio-tempo estrema. Secondo la teoria della relatività generale di Einstein, la massa e l'energia possono deformare la trama dello spazio-tempo, e un buco nero è il risultato di una massa che è stata compressa in un volume molto piccolo, tipicamente dopo la morte di una stella massiccia.\n",
      "\n",
      "\n",
      "I buchi neri sono classificati in base alla loro massa: stelle nane, buchi neri stellari, buchi neri supermassicci e buchi neri primordiali. I buchi neri stell\n",
      "Give list of films like videogame Rainworld\n",
      "1. The Last of Us (2013)\n",
      "2. Bioshock (2007)\n",
      "3. Portal (2007)\n",
      "4. Silent Hill (2006)\n",
      "5. Resident Evil (2002)\n",
      "6. Dead Space (2008)\n",
      "7. Halo: Combat Evolved (2001)\n",
      "8. Half-Life (1998)\n",
      "9. System Shock (1994)\n",
      "10. System Shock 2 (1999)\n",
      "11. Doom (1993)\n",
      "12. Duke Nukem 3D (1996)\n",
      "13. Fallout (1997)\n",
      "14. Fallout 2 (1998)\n",
      "15. Fallout 3 (2008)\n",
      "16. Fallout 4 (2015)\n",
      "17. Fall\n",
      "How can I cook some peanuts butter cookies for 4 peoples?\n",
      "To cook peanut butter cookies for four people, you'll need to make a batch of cookies that will yield enough servings for everyone. A standard batch of peanut butter cookies typically makes about 24 cookies. Here's a simple recipe to make peanut butter cookies for four people:\n",
      "\n",
      "Ingredients:\n",
      "- 1 cup (2 sticks) unsalted butter, softened\n",
      "- 1 cup creamy peanut butter\n",
      "- 1 cup granulated sugar\n",
      "- 1 large egg\n",
      "- 1 teaspoon vanilla extract\n",
      "- 2 1/4 cups all-purpose flour\n",
      "- 1/2 teaspoon baking soda\n",
      "- 1/2 teaspoon salt\n",
      "\n",
      "Instructions:\n",
      "\n",
      "1. Preheat your oven to 350°F (175°C) and line a baking sheet with parchment paper or a silic\n",
      "What is the industrial revolution?\n",
      "The Industrial Revolution was a period of major industrialization and innovation that began in Great Britain in the late 18th century and spread to other parts of the world. It marked a significant turning point in history; almost every aspect of daily life was influenced in some way. The revolution began with the mechanization of the textile industry, followed by the development of iron-making techniques, and the increased use of refined coal.\n",
      "\n",
      "\n",
      "The introduction of steam power, the development of machine tools, and the rise of the factory system transformed economies that had been based on agriculture and handicrafts into economies based on large-scale industry, mechanized manufacturing, and the factory system. New machines, such as the spinning jenny and the power loom, increased production and efficiency. The steam engine, developed by James Watt, became a key source of power for factories and transportation.\n",
      "\n",
      "\n",
      "The Industrial Revolution also led to significant social changes, including urbanization, as people moved from rural areas to\n"
     ]
    }
   ],
   "source": [
    "for i in range(0, 10):\n",
    "    print(chunk[i]['prompt'])\n",
    "    print(chunk[i]['answer'])"
   ]
  }
 ],
 "metadata": {
  "kernelspec": {
   "display_name": ".venv-shortgpt",
   "language": "python",
   "name": "python3"
  },
  "language_info": {
   "codemirror_mode": {
    "name": "ipython",
    "version": 3
   },
   "file_extension": ".py",
   "mimetype": "text/x-python",
   "name": "python",
   "nbconvert_exporter": "python",
   "pygments_lexer": "ipython3",
   "version": "3.10.12"
  }
 },
 "nbformat": 4,
 "nbformat_minor": 2
}

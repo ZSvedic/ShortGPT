{
 "cells": [
  {
   "cell_type": "code",
   "execution_count": 1,
   "metadata": {},
   "outputs": [
    {
     "name": "stdout",
     "output_type": "stream",
     "text": [
      "2140\n"
     ]
    }
   ],
   "source": [
    "# Load the dataset.\n",
    "\n",
    "import datasets\n",
    "\n",
    "dataset = datasets.load_dataset('ZSvedic/phi3-arena-short-dpo', split='test')\n",
    "n_rows = len(dataset)\n",
    "print(str(n_rows))"
   ]
  },
  {
   "cell_type": "code",
   "execution_count": 9,
   "metadata": {},
   "outputs": [
    {
     "data": {
      "application/vnd.jupyter.widget-view+json": {
       "model_id": "4d0d757731a74df69a033bee7ee31fd2",
       "version_major": 2,
       "version_minor": 0
      },
      "text/plain": [
       "Loading checkpoint shards:   0%|          | 0/2 [00:00<?, ?it/s]"
      ]
     },
     "metadata": {},
     "output_type": "display_data"
    },
    {
     "name": "stdout",
     "output_type": "stream",
     "text": [
      "Allocated GPU memory: 7,296.5 MB\n"
     ]
    }
   ],
   "source": [
    "# Load the model and corresponding tokenizer.\n",
    "import torch\n",
    "import utils.llm_utils as llm\n",
    "\n",
    "model_name = 'results/checkpoint-500'\n",
    "# model_name = 'microsoft/Phi-3-mini-4k-instruct'\n",
    "tokenizer, model = llm.load_tokenizer_and_model(model_name)\n",
    "print(f'Allocated GPU memory: {torch.cuda.memory_allocated() / (1024*1024):,.1f} MB')"
   ]
  },
  {
   "cell_type": "code",
   "execution_count": 10,
   "metadata": {},
   "outputs": [
    {
     "data": {
      "text/plain": [
       "{'question-id': 'f575e3c5c0ef4456977a0b674eb86acf',\n",
       " 'prompt': 'can you please write a short poem, in the style of Master Yoda, outlining the plot of Return of the Jedi',\n",
       " 'chosen': 'says.\\n\\n\"I am your father.\"\\n\\nVader falls, redeemed.\\n\\nThe Empire falls, peace restored.\\n\\nLuke returns to the',\n",
       " 'rejected': 'In the galaxy far, far away,\\nA dark side, a Jedi, a rebel fray.\\nAnakin, once a hero, now a Sith,\\nHis heart consumed by fear and spite.\\n\\nThe Emperor, with his dark power,\\nDemands the Jedi\\'s final hour.\\nBut Luke, the last of the Jedi,\\nFights to save his father, his life, his legacy.\\n\\nWith the help of friends, Han and Leia,\\nAnd the wise old Yoda, they set the stage.\\nFor a battle, fierce and grand,\\nTo save the galaxy from the dark side\\'s hand.\\n\\nThe Rebel fleet, with the Death Star\\'s might,\\nFights the Empire\\'s force, in the endless night.\\nLuke confronts Vader, his father\\'s face,\\nA moment of truth, a chance to embrace.\\n\\n\"No, I am not Darth Vader,\" Luke',\n",
       " 'answer': ''}"
      ]
     },
     "execution_count": 10,
     "metadata": {},
     "output_type": "execute_result"
    }
   ],
   "source": [
    "import utils.llm_utils as llm\n",
    "\n",
    "normal_word_limit = 120\n",
    "normal_max_ch_soft = normal_word_limit * 6\n",
    "normal_max_tokens_hard = int(normal_max_ch_soft * 1.2 / 4)\n",
    "\n",
    "# for chunk in llm.fixed_chunker(dataset, 100):\n",
    "chunk = dataset.select(range(0, 10))\n",
    "chunk = llm.chunk_call_llm(chunk, tokenizer, model, normal_max_tokens_hard)\n",
    "\n",
    "chunk[0]"
   ]
  },
  {
   "cell_type": "code",
   "execution_count": 11,
   "metadata": {},
   "outputs": [
    {
     "name": "stdout",
     "output_type": "stream",
     "text": [
      "can you please write a short poem, in the style of Master Yoda, outlining the plot of Return of the Jedi\n",
      "\n",
      "I am 10 years old and my sister is half my age. What will be her age when I am 30 years old?\n",
      "\n",
      "John and Jane are in the living room together, watching TV and slowly sharing a bag of microwave popcorn. Jane leaves the room briefly to go to the bathroom. While she's gone, John quickly eats as much popcorn as possible, until the bag is empty. Jane returns to the room, and reaches her hand into the bag. How much popcorn does she expect to find?\n",
      "\n",
      "the captain of the ship has brother named Tom. But Tom himself hasn't got a brother. whats the point?\n",
      "\n",
      "he captain of the ship has brother named Tom. But Tom himself hasn't got a brother. whats the point?\n",
      "\n",
      "give an overview of techniques can you map a flow of a process with its cycle and lead times?\n",
      "\n",
      "Che cos'è il buco nero?\n",
      "\n",
      "Give list of films like videogame Rainworld\n",
      "\n",
      "How can I cook some peanuts butter cookies for 4 peoples?\n",
      "\n",
      "What is the industrial revolution?\n",
      "\n"
     ]
    }
   ],
   "source": [
    "for i in range(0, 10):\n",
    "    print(chunk[i]['prompt'])\n",
    "    print(chunk[i]['answer'])"
   ]
  }
 ],
 "metadata": {
  "kernelspec": {
   "display_name": ".venv-shortgpt",
   "language": "python",
   "name": "python3"
  },
  "language_info": {
   "codemirror_mode": {
    "name": "ipython",
    "version": 3
   },
   "file_extension": ".py",
   "mimetype": "text/x-python",
   "name": "python",
   "nbconvert_exporter": "python",
   "pygments_lexer": "ipython3",
   "version": "3.10.12"
  }
 },
 "nbformat": 4,
 "nbformat_minor": 2
}

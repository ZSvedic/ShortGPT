{
 "cells": [
  {
   "cell_type": "code",
   "execution_count": 3,
   "metadata": {},
   "outputs": [
    {
     "name": "stderr",
     "output_type": "stream",
     "text": [
      "Exception ignored in: <bound method IPythonKernel._clean_thread_parent_frames of <ipykernel.ipkernel.IPythonKernel object at 0x7fae226d2a40>>\n",
      "Traceback (most recent call last):\n",
      "  File \"/home/zel/ml-projects/ShortGPT/.venv-shortgpt/lib/python3.10/site-packages/ipykernel/ipkernel.py\", line 775, in _clean_thread_parent_frames\n",
      "    def _clean_thread_parent_frames(\n",
      "KeyboardInterrupt: \n"
     ]
    }
   ],
   "source": [
    "# Method A: Empty dataset and add items.\n",
    "import datasets # type: ignore\n",
    "\n",
    "ds = datasets.Dataset.from_dict({})\n",
    "n = 1_000_000\n",
    "\n",
    "for i in range(n):\n",
    "    ds = ds.add_item({'question': 'What is your name?', 'normal': str(i)})\n",
    "\n",
    "print(ds)\n",
    "print(ds[0])\n",
    "print(ds[-1])"
   ]
  },
  {
   "cell_type": "code",
   "execution_count": 1,
   "metadata": {},
   "outputs": [
    {
     "name": "stderr",
     "output_type": "stream",
     "text": [
      "/home/zel/ml-projects/ShortGPT/.venv-shortgpt/lib/python3.10/site-packages/tqdm/auto.py:21: TqdmWarning: IProgress not found. Please update jupyter and ipywidgets. See https://ipywidgets.readthedocs.io/en/stable/user_install.html\n",
      "  from .autonotebook import tqdm as notebook_tqdm\n"
     ]
    },
    {
     "name": "stdout",
     "output_type": "stream",
     "text": [
      "Dataset({\n",
      "    features: ['question', 'answer'],\n",
      "    num_rows: 1000000\n",
      "})\n",
      "{'question': 'A number?', 'answer': 0}\n",
      "{'question': 'A number?', 'answer': 999999}\n"
     ]
    }
   ],
   "source": [
    "# Method B: Create dataset from generator.\n",
    "import datasets # type: ignore\n",
    "n = 1_000_000\n",
    "generator = lambda: ({\"question\": \"A number?\", \"answer\": i} for i in range(n))\n",
    "ds = datasets.Dataset.from_generator(generator)\n",
    "print(ds)\n",
    "print(ds[0])\n",
    "print(ds[-1])"
   ]
  },
  {
   "cell_type": "code",
   "execution_count": 3,
   "metadata": {},
   "outputs": [
    {
     "name": "stderr",
     "output_type": "stream",
     "text": [
      "Generating train split: 4 examples [00:00, 673.41 examples/s]"
     ]
    },
    {
     "name": "stdout",
     "output_type": "stream",
     "text": [
      "Dataset({\n",
      "    features: ['chunk'],\n",
      "    num_rows: 4\n",
      "})\n"
     ]
    },
    {
     "name": "stderr",
     "output_type": "stream",
     "text": [
      "\n"
     ]
    }
   ],
   "source": [
    "import datasets  # type: ignore\n",
    "\n",
    "def chunk_generator(lst, chunk_size=25):\n",
    "    for i in range(0, len(lst), chunk_size):\n",
    "        yield {\"chunk\": lst[i:i + chunk_size]}\n",
    "\n",
    "# Example usage:\n",
    "data = list(range(100))  # Sample data\n",
    "\n",
    "# Create dataset from generator\n",
    "ds = datasets.Dataset.from_generator(lambda: chunk_generator(data))\n",
    "\n",
    "# Print the dataset\n",
    "print(ds)"
   ]
  }
 ],
 "metadata": {
  "kernelspec": {
   "display_name": ".venv-shortgpt",
   "language": "python",
   "name": "python3"
  },
  "language_info": {
   "codemirror_mode": {
    "name": "ipython",
    "version": 3
   },
   "file_extension": ".py",
   "mimetype": "text/x-python",
   "name": "python",
   "nbconvert_exporter": "python",
   "pygments_lexer": "ipython3",
   "version": "3.10.12"
  }
 },
 "nbformat": 4,
 "nbformat_minor": 2
}

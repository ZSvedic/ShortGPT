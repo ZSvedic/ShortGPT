{
 "cells": [
  {
   "cell_type": "code",
   "execution_count": 1,
   "metadata": {},
   "outputs": [
    {
     "name": "stdout",
     "output_type": "stream",
     "text": [
      "33000\n"
     ]
    }
   ],
   "source": [
    "import datasets # type: ignore\n",
    "\n",
    "input_dataset = 'lmsys/chatbot_arena_conversations'\n",
    "dataset = datasets.load_dataset(input_dataset)['train']\n",
    "n_rows = len(dataset)\n",
    "print(str(n_rows))"
   ]
  },
  {
   "cell_type": "code",
   "execution_count": 2,
   "metadata": {},
   "outputs": [
    {
     "name": "stdout",
     "output_type": "stream",
     "text": [
      "Chunk len: 10000\n",
      "Chunk len: 10000\n",
      "Chunk len: 10000\n",
      "Chunk len: 3000\n",
      "First Order: 0\n",
      "First Question: What is the difference between OpenCL and CUDA?\n",
      "First Question after sort: 3,14 + 9855 + 0,000001 = ?\n",
      "First Question after unsort: What is the difference between OpenCL and CUDA?\n"
     ]
    }
   ],
   "source": [
    "from typing import Generator\n",
    "\n",
    "def fixed_chunker(dataset: datasets.Dataset, \n",
    "                  chunk_size: int) -> Generator:\n",
    "    for i in range(0, len(dataset), chunk_size):\n",
    "        yield dataset.select(range(i, min(i + chunk_size, len(dataset))))\n",
    "\n",
    "def add_order_column(dataset: datasets.Dataset) -> datasets.Dataset:\n",
    "    return dataset.map(\n",
    "        lambda example, idx: {'order': idx}, \n",
    "        with_indices=True)\n",
    "    \n",
    "def add_question_column(dataset: datasets.Dataset) -> datasets.Dataset:\n",
    "    return dataset.map(\n",
    "        lambda example: {'question': example['conversation_a'][0]['content']})\n",
    "\n",
    "# Test:\n",
    "for big_chunk in fixed_chunker(dataset, 10000):\n",
    "    print(f\"Chunk len: {len(big_chunk)}\")\n",
    "\n",
    "for big_chunk in fixed_chunker(dataset, 100):\n",
    "    big_chunk = add_order_column(big_chunk)\n",
    "    print(f\"First Order: {big_chunk[0]['order']}\")\n",
    "\n",
    "    big_chunk = add_question_column(big_chunk)\n",
    "    print(f\"First Question: {big_chunk[0]['question']}\")\n",
    "\n",
    "    # Sort the chunk.\n",
    "    big_chunk = big_chunk.sort('question')\n",
    "    print(f\"First Question after sort: {big_chunk[0]['question']}\")\n",
    "\n",
    "    # Unsort the chunk.\n",
    "    big_chunk = big_chunk.sort('order')\n",
    "    print(f\"First Question after unsort: {big_chunk[0]['question']}\")\n",
    "\n",
    "    break"
   ]
  },
  {
   "cell_type": "code",
   "execution_count": 3,
   "metadata": {},
   "outputs": [],
   "source": [
    "import torch\n",
    "import utils.llm_utils as llm\n",
    "\n",
    "model_name = 'microsoft/Phi-3-mini-4k-instruct'\n",
    "tokenizer, model = llm.load_tokenizer_and_model(model_name)"
   ]
  },
  {
   "cell_type": "code",
   "execution_count": null,
   "metadata": {},
   "outputs": [],
   "source": [
    "def token_len(tokenizer, text: str) -> torch.Tensor:\n",
    "    message = [{\"role\": \"user\", \"content\": text}] \n",
    "    tokens = tokenizer.apply_chat_template([message], add_generation_prompt=True)[0]\n",
    "    return len(tokens)\n",
    "\n",
    "def add_token_len_column(tokenizer, dataset: datasets.Dataset) -> datasets.Dataset:\n",
    "    return dataset.map(\n",
    "        lambda example: {'token_len': token_len(tokenizer, example['question'])})\n",
    "\n",
    "def token_chunker(dataset: datasets.Dataset, \n",
    "                  chunk_tokens: int,\n",
    "                  generated_tokens:int) -> Generator:\n",
    "    ''' Yield chunks of examples that when prompted, tokenized, padded and generated are \n",
    "    smaller than chunk_tokens size. \n",
    "    Since examples are sorted descending by token_len, all examples in a chunk will be\n",
    "    padded to the length of the first example in the chunk. '''\n",
    "    start = 0\n",
    "    while start < len(dataset):\n",
    "        example_len = dataset[start]['token_len'] + generated_tokens\n",
    "        n_chunk = min(chunk_tokens//example_len, len(dataset)-start)\n",
    "        yield dataset.select(range(start, start+n_chunk))\n",
    "        start += n_chunk\n",
    "\n",
    "def chunk_call_llm(chunk: datasets.Dataset, tokenizer, model,\n",
    "                   gen_tokens: int) -> None:\n",
    "    messages = [[{\"role\": \"user\", \"content\": question}] \n",
    "                for question in chunk['question']]\n",
    "    answers = llm.batch_call_llm(tokenizer, model, messages, gen_tokens)\n",
    "    return chunk.map(\n",
    "        lambda example, idx: {'answer': answers[idx]},\n",
    "        with_indices=True)\n",
    "\n",
    "def process_variable_chunks(dataset: datasets.Dataset, \n",
    "                            tokenizer,\n",
    "                            model,\n",
    "                            big_chunk_size: int,\n",
    "                            small_chunk_tokens: int,\n",
    "                            max_gen_tokens: int) -> Generator:\n",
    "\n",
    "    for big_chunk in fixed_chunker(dataset, 100):\n",
    "        big_chunk = big_chunk.select_columns(['question_id', 'conversation_a'])\n",
    "        big_chunk = add_question_column(big_chunk)\n",
    "        big_chunk = add_token_len_column(tokenizer, big_chunk)\n",
    "        big_chunk = add_order_column(big_chunk)\n",
    "        big_chunk = big_chunk.sort('token_len', reverse=True)\n",
    "        # print(f\"First Question tokenization len: {big_chunk[0]['token_len']}\")\n",
    "\n",
    "        big_chunk = datasets.concatenate_datasets(\n",
    "            [chunk_call_llm(small_chunk, tokenizer, model, max_gen_tokens) \n",
    "            for small_chunk in token_chunker(big_chunk, 1500, max_gen_tokens)] )\n",
    "\n",
    "        big_chunk = big_chunk.sort('order')\n",
    "        # print(f\"First Question tokenization len: {big_chunk[0]['token_len']}\")\n",
    "        # print(f\"First answer: {big_chunk[0]['answer']}\")\n",
    "\n",
    "        big_chunk = big_chunk.select_columns(['question_id', 'question', 'answer'])\n",
    "        yield big_chunk\n",
    "\n",
    "# Test:\n",
    "for chunk in process_variable_chunks(dataset, tokenizer, model, 100, 1500, 50):\n",
    "    print(f\"Chunk len: {len(chunk)}\")\n",
    "    print(f\"First answer: {chunk[0]['answer']}\")\n",
    "    break"
   ]
  },
  {
   "cell_type": "code",
   "execution_count": null,
   "metadata": {},
   "outputs": [],
   "source": [
    "out_jsonl = \"1_dataset_creator/phi3_arena_brief_dataset.jsonl\"\n",
    "with open(out_jsonl, 'w') as f: pass\n",
    "\n",
    "for chunk in process_variable_chunks(dataset, tokenizer, model, 100, 1500, 50):\n",
    "    with open(out_jsonl, 'ab') as f:\n",
    "        chunk.to_json(f, lines=True)\n",
    "    break"
   ]
  }
 ],
 "metadata": {
  "kernelspec": {
   "display_name": ".venv-shortgpt",
   "language": "python",
   "name": "python3"
  },
  "language_info": {
   "codemirror_mode": {
    "name": "ipython",
    "version": 3
   },
   "file_extension": ".py",
   "mimetype": "text/x-python",
   "name": "python",
   "nbconvert_exporter": "python",
   "pygments_lexer": "ipython3",
   "version": "3.10.12"
  }
 },
 "nbformat": 4,
 "nbformat_minor": 2
}

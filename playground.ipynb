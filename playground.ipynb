{
 "cells": [
  {
   "cell_type": "code",
   "execution_count": 1,
   "metadata": {},
   "outputs": [
    {
     "name": "stdout",
     "output_type": "stream",
     "text": [
      "33000\n"
     ]
    }
   ],
   "source": [
    "import datasets # type: ignore\n",
    "\n",
    "input_dataset = 'lmsys/chatbot_arena_conversations'\n",
    "dataset = datasets.load_dataset(input_dataset)['train']\n",
    "n_rows = len(dataset)\n",
    "print(str(n_rows))"
   ]
  },
  {
   "cell_type": "code",
   "execution_count": 3,
   "metadata": {},
   "outputs": [
    {
     "name": "stdout",
     "output_type": "stream",
     "text": [
      "Chunk len: 10000\n",
      "Chunk len: 10000\n",
      "Chunk len: 10000\n",
      "Chunk len: 3000\n",
      "First Order: 0\n",
      "First Question: What is the difference between OpenCL and CUDA?\n",
      "First Question after sort: 3,14 + 9855 + 0,000001 = ?\n",
      "First Question after unsort: What is the difference between OpenCL and CUDA?\n"
     ]
    }
   ],
   "source": [
    "from typing import Generator\n",
    "\n",
    "def fixed_chunker(dataset: datasets.Dataset, \n",
    "                  chunk_size: int) -> Generator:\n",
    "    for i in range(0, len(dataset), chunk_size):\n",
    "        yield dataset.select(range(i, min(i + chunk_size, len(dataset))))\n",
    "\n",
    "def add_order_column(dataset: datasets.Dataset) -> datasets.Dataset:\n",
    "    return dataset.map(\n",
    "        lambda example, idx: {'order': idx}, \n",
    "        with_indices=True)\n",
    "    \n",
    "def add_question_column(dataset: datasets.Dataset) -> datasets.Dataset:\n",
    "    return dataset.map(\n",
    "        lambda example: {'question': example['conversation_a'][0]['content']})\n",
    "\n",
    "# Test:\n",
    "for big_chunk in fixed_chunker(dataset, 10000):\n",
    "    print(f\"Chunk len: {len(big_chunk)}\")\n",
    "\n",
    "for big_chunk in fixed_chunker(dataset, 100):\n",
    "    big_chunk = add_order_column(big_chunk)\n",
    "    print(f\"First Order: {big_chunk[0]['order']}\")\n",
    "\n",
    "    big_chunk = add_question_column(big_chunk)\n",
    "    print(f\"First Question: {big_chunk[0]['question']}\")\n",
    "\n",
    "    # Sort the chunk.\n",
    "    big_chunk = big_chunk.sort('question')\n",
    "    print(f\"First Question after sort: {big_chunk[0]['question']}\")\n",
    "\n",
    "    # Unsort the chunk.\n",
    "    big_chunk = big_chunk.sort('order')\n",
    "    print(f\"First Question after unsort: {big_chunk[0]['question']}\")\n",
    "\n",
    "    break"
   ]
  },
  {
   "cell_type": "code",
   "execution_count": 4,
   "metadata": {},
   "outputs": [
    {
     "data": {
      "application/vnd.jupyter.widget-view+json": {
       "model_id": "bdd0c025f1bb477bb42079f3548a7335",
       "version_major": 2,
       "version_minor": 0
      },
      "text/plain": [
       "Loading checkpoint shards:   0%|          | 0/2 [00:00<?, ?it/s]"
      ]
     },
     "metadata": {},
     "output_type": "display_data"
    }
   ],
   "source": [
    "import torch\n",
    "import utils.llm_utils as llm\n",
    "\n",
    "model_name = 'microsoft/Phi-3-mini-4k-instruct'\n",
    "tokenizer, model = llm.load_tokenizer_and_model(model_name)"
   ]
  },
  {
   "cell_type": "code",
   "execution_count": 12,
   "metadata": {},
   "outputs": [
    {
     "name": "stdout",
     "output_type": "stream",
     "text": [
      "Tokenized Hello World: 5\n",
      "First Question tokenization len: 353\n",
      "Small chunk len: 1 and tokenization len: 353\n",
      "Small chunk len: 1 and tokenization len: 288\n",
      "Small chunk len: 3 and tokenization len: 97\n",
      "Small chunk len: 4 and tokenization len: 54\n",
      "Small chunk len: 5 and tokenization len: 44\n",
      "Small chunk len: 6 and tokenization len: 32\n",
      "Small chunk len: 6 and tokenization len: 26\n",
      "Small chunk len: 6 and tokenization len: 24\n",
      "Small chunk len: 7 and tokenization len: 21\n",
      "Small chunk len: 7 and tokenization len: 18\n",
      "Small chunk len: 7 and tokenization len: 16\n",
      "Small chunk len: 7 and tokenization len: 15\n",
      "Small chunk len: 7 and tokenization len: 14\n",
      "Small chunk len: 7 and tokenization len: 13\n",
      "Small chunk len: 8 and tokenization len: 12\n",
      "Small chunk len: 8 and tokenization len: 10\n",
      "Small chunk len: 8 and tokenization len: 9\n",
      "Small chunk len: 2 and tokenization len: 5\n"
     ]
    }
   ],
   "source": [
    "def token_len(tokenizer, text: str) -> torch.Tensor:\n",
    "    message = [{\"role\": \"user\", \"content\": text}] \n",
    "    tokens = tokenizer.apply_chat_template([message], add_generation_prompt=True)[0]\n",
    "    return len(tokens)\n",
    "\n",
    "def add_token_len_column(tokenizer, dataset: datasets.Dataset) -> datasets.Dataset:\n",
    "    return dataset.map(\n",
    "        lambda example: {'token_len': token_len(tokenizer, example['question'])})\n",
    "\n",
    "def token_chunker(dataset: datasets.Dataset, \n",
    "                  chunk_tokens: int,\n",
    "                  generated_tokens:int) -> Generator:\n",
    "    ''' Yield chunks of examples that when prompted, tokenized, padded and generated are \n",
    "    smaller than chunk_tokens size. \n",
    "    Since examples are sorted descending by token_len, all examples in a chunk will be\n",
    "    padded to the length of the first example in the chunk. '''\n",
    "    start = 0\n",
    "    while start < len(dataset):\n",
    "        example_len = dataset[start]['token_len'] + generated_tokens\n",
    "        n_chunk = min(chunk_tokens//example_len, len(dataset)-start)\n",
    "        yield dataset.select(range(start, start+n_chunk))\n",
    "        start += n_chunk\n",
    "\n",
    "print(f\"Tokenized Hello World: {token_len(tokenizer, 'Hello World')}\")\n",
    "\n",
    "for big_chunk in fixed_chunker(dataset, 100):\n",
    "    big_chunk = add_question_column(big_chunk)\n",
    "    big_chunk = add_token_len_column(tokenizer, big_chunk)\n",
    "    big_chunk = add_order_column(big_chunk)\n",
    "    big_chunk = big_chunk.sort('token_len', reverse=True)\n",
    "    print(f\"First Question tokenization len: {big_chunk[0]['token_len']}\")\n",
    "\n",
    "    for small_chunk in token_chunker(big_chunk, 500, 50):\n",
    "        print(f\"Small chunk len: {len(small_chunk)} and tokenization len: {small_chunk[0]['token_len']}\")\n",
    "\n",
    "    break"
   ]
  }
 ],
 "metadata": {
  "kernelspec": {
   "display_name": ".venv-shortgpt",
   "language": "python",
   "name": "python3"
  },
  "language_info": {
   "codemirror_mode": {
    "name": "ipython",
    "version": 3
   },
   "file_extension": ".py",
   "mimetype": "text/x-python",
   "name": "python",
   "nbconvert_exporter": "python",
   "pygments_lexer": "ipython3",
   "version": "3.10.12"
  }
 },
 "nbformat": 4,
 "nbformat_minor": 2
}
